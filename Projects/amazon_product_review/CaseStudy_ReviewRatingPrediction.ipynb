{
 "cells": [
  {
   "cell_type": "markdown",
   "metadata": {},
   "source": [
    "# Title: Review Rating Prediction "
   ]
  },
  {
   "cell_type": "markdown",
   "metadata": {},
   "source": [
    "## 1. Introduction – \n",
    "I am using amazon product reviews for the analysis. I will be using existing reviews to find the star rating based on the text. The star rating ranges from 1 to 5, where 1 is lowest and 5 is max rating. For example, if review contains text “Good product to be used.” The model will try to see what can be the star rating for this review. \n",
    "\n",
    "## Data Source \n",
    "https://www.kaggle.com/datafiniti/consumer-reviews-of-amazon-products"
   ]
  },
  {
   "cell_type": "markdown",
   "metadata": {},
   "source": [
    "### Import requried libraries"
   ]
  },
  {
   "cell_type": "code",
   "execution_count": 1,
   "metadata": {},
   "outputs": [],
   "source": [
    "import pandas as pd\n",
    "import numpy as np\n",
    "import string\n",
    "import re\n",
    "import matplotlib.pyplot as plt\n",
    "import seaborn as sns\n",
    "from collections import Counter"
   ]
  },
  {
   "cell_type": "markdown",
   "metadata": {},
   "source": [
    "### Load the data into dataframe."
   ]
  },
  {
   "cell_type": "code",
   "execution_count": 2,
   "metadata": {},
   "outputs": [
    {
     "data": {
      "text/html": [
       "<div>\n",
       "<style scoped>\n",
       "    .dataframe tbody tr th:only-of-type {\n",
       "        vertical-align: middle;\n",
       "    }\n",
       "\n",
       "    .dataframe tbody tr th {\n",
       "        vertical-align: top;\n",
       "    }\n",
       "\n",
       "    .dataframe thead th {\n",
       "        text-align: right;\n",
       "    }\n",
       "</style>\n",
       "<table border=\"1\" class=\"dataframe\">\n",
       "  <thead>\n",
       "    <tr style=\"text-align: right;\">\n",
       "      <th></th>\n",
       "      <th>id</th>\n",
       "      <th>dateAdded</th>\n",
       "      <th>dateUpdated</th>\n",
       "      <th>name</th>\n",
       "      <th>asins</th>\n",
       "      <th>brand</th>\n",
       "      <th>categories</th>\n",
       "      <th>primaryCategories</th>\n",
       "      <th>imageURLs</th>\n",
       "      <th>keys</th>\n",
       "      <th>...</th>\n",
       "      <th>reviews.dateSeen</th>\n",
       "      <th>reviews.doRecommend</th>\n",
       "      <th>reviews.id</th>\n",
       "      <th>reviews.numHelpful</th>\n",
       "      <th>reviews.rating</th>\n",
       "      <th>reviews.sourceURLs</th>\n",
       "      <th>reviews.text</th>\n",
       "      <th>reviews.title</th>\n",
       "      <th>reviews.username</th>\n",
       "      <th>sourceURLs</th>\n",
       "    </tr>\n",
       "  </thead>\n",
       "  <tbody>\n",
       "    <tr>\n",
       "      <th>0</th>\n",
       "      <td>AVqVGZNvQMlgsOJE6eUY</td>\n",
       "      <td>2017-03-03T16:56:05Z</td>\n",
       "      <td>2018-10-25T16:36:31Z</td>\n",
       "      <td>Amazon Kindle E-Reader 6\" Wifi (8th Generation...</td>\n",
       "      <td>B00ZV9PXP2</td>\n",
       "      <td>Amazon</td>\n",
       "      <td>Computers,Electronics Features,Tablets,Electro...</td>\n",
       "      <td>Electronics</td>\n",
       "      <td>https://pisces.bbystatic.com/image2/BestBuy_US...</td>\n",
       "      <td>allnewkindleereaderblack6glarefreetouchscreend...</td>\n",
       "      <td>...</td>\n",
       "      <td>2018-05-27T00:00:00Z,2017-09-18T00:00:00Z,2017...</td>\n",
       "      <td>False</td>\n",
       "      <td>NaN</td>\n",
       "      <td>0</td>\n",
       "      <td>3</td>\n",
       "      <td>http://reviews.bestbuy.com/3545/5442403/review...</td>\n",
       "      <td>I thought it would be as big as small paper bu...</td>\n",
       "      <td>Too small</td>\n",
       "      <td>llyyue</td>\n",
       "      <td>https://www.newegg.com/Product/Product.aspx%25...</td>\n",
       "    </tr>\n",
       "    <tr>\n",
       "      <th>1</th>\n",
       "      <td>AVqVGZNvQMlgsOJE6eUY</td>\n",
       "      <td>2017-03-03T16:56:05Z</td>\n",
       "      <td>2018-10-25T16:36:31Z</td>\n",
       "      <td>Amazon Kindle E-Reader 6\" Wifi (8th Generation...</td>\n",
       "      <td>B00ZV9PXP2</td>\n",
       "      <td>Amazon</td>\n",
       "      <td>Computers,Electronics Features,Tablets,Electro...</td>\n",
       "      <td>Electronics</td>\n",
       "      <td>https://pisces.bbystatic.com/image2/BestBuy_US...</td>\n",
       "      <td>allnewkindleereaderblack6glarefreetouchscreend...</td>\n",
       "      <td>...</td>\n",
       "      <td>2018-05-27T00:00:00Z,2017-07-07T00:00:00Z,2017...</td>\n",
       "      <td>True</td>\n",
       "      <td>NaN</td>\n",
       "      <td>0</td>\n",
       "      <td>5</td>\n",
       "      <td>http://reviews.bestbuy.com/3545/5442403/review...</td>\n",
       "      <td>This kindle is light and easy to use especiall...</td>\n",
       "      <td>Great light reader. Easy to use at the beach</td>\n",
       "      <td>Charmi</td>\n",
       "      <td>https://www.newegg.com/Product/Product.aspx%25...</td>\n",
       "    </tr>\n",
       "    <tr>\n",
       "      <th>2</th>\n",
       "      <td>AVqVGZNvQMlgsOJE6eUY</td>\n",
       "      <td>2017-03-03T16:56:05Z</td>\n",
       "      <td>2018-10-25T16:36:31Z</td>\n",
       "      <td>Amazon Kindle E-Reader 6\" Wifi (8th Generation...</td>\n",
       "      <td>B00ZV9PXP2</td>\n",
       "      <td>Amazon</td>\n",
       "      <td>Computers,Electronics Features,Tablets,Electro...</td>\n",
       "      <td>Electronics</td>\n",
       "      <td>https://pisces.bbystatic.com/image2/BestBuy_US...</td>\n",
       "      <td>allnewkindleereaderblack6glarefreetouchscreend...</td>\n",
       "      <td>...</td>\n",
       "      <td>2018-05-27T00:00:00Z</td>\n",
       "      <td>True</td>\n",
       "      <td>NaN</td>\n",
       "      <td>0</td>\n",
       "      <td>4</td>\n",
       "      <td>https://reviews.bestbuy.com/3545/5442403/revie...</td>\n",
       "      <td>Didnt know how much i'd use a kindle so went f...</td>\n",
       "      <td>Great for the price</td>\n",
       "      <td>johnnyjojojo</td>\n",
       "      <td>https://www.newegg.com/Product/Product.aspx%25...</td>\n",
       "    </tr>\n",
       "    <tr>\n",
       "      <th>3</th>\n",
       "      <td>AVqVGZNvQMlgsOJE6eUY</td>\n",
       "      <td>2017-03-03T16:56:05Z</td>\n",
       "      <td>2018-10-25T16:36:31Z</td>\n",
       "      <td>Amazon Kindle E-Reader 6\" Wifi (8th Generation...</td>\n",
       "      <td>B00ZV9PXP2</td>\n",
       "      <td>Amazon</td>\n",
       "      <td>Computers,Electronics Features,Tablets,Electro...</td>\n",
       "      <td>Electronics</td>\n",
       "      <td>https://pisces.bbystatic.com/image2/BestBuy_US...</td>\n",
       "      <td>allnewkindleereaderblack6glarefreetouchscreend...</td>\n",
       "      <td>...</td>\n",
       "      <td>2018-10-09T00:00:00Z</td>\n",
       "      <td>True</td>\n",
       "      <td>177283626.0</td>\n",
       "      <td>3</td>\n",
       "      <td>5</td>\n",
       "      <td>https://redsky.target.com/groot-domain-api/v1/...</td>\n",
       "      <td>I am 100 happy with my purchase. I caught it o...</td>\n",
       "      <td>A Great Buy</td>\n",
       "      <td>Kdperry</td>\n",
       "      <td>https://www.newegg.com/Product/Product.aspx%25...</td>\n",
       "    </tr>\n",
       "    <tr>\n",
       "      <th>4</th>\n",
       "      <td>AVqVGZNvQMlgsOJE6eUY</td>\n",
       "      <td>2017-03-03T16:56:05Z</td>\n",
       "      <td>2018-10-25T16:36:31Z</td>\n",
       "      <td>Amazon Kindle E-Reader 6\" Wifi (8th Generation...</td>\n",
       "      <td>B00ZV9PXP2</td>\n",
       "      <td>Amazon</td>\n",
       "      <td>Computers,Electronics Features,Tablets,Electro...</td>\n",
       "      <td>Electronics</td>\n",
       "      <td>https://pisces.bbystatic.com/image2/BestBuy_US...</td>\n",
       "      <td>allnewkindleereaderblack6glarefreetouchscreend...</td>\n",
       "      <td>...</td>\n",
       "      <td>2018-05-27T00:00:00Z</td>\n",
       "      <td>True</td>\n",
       "      <td>NaN</td>\n",
       "      <td>0</td>\n",
       "      <td>5</td>\n",
       "      <td>https://reviews.bestbuy.com/3545/5442403/revie...</td>\n",
       "      <td>Solid entry level Kindle. Great for kids. Gift...</td>\n",
       "      <td>Solid entry-level Kindle. Great for kids</td>\n",
       "      <td>Johnnyblack</td>\n",
       "      <td>https://www.newegg.com/Product/Product.aspx%25...</td>\n",
       "    </tr>\n",
       "  </tbody>\n",
       "</table>\n",
       "<p>5 rows × 24 columns</p>\n",
       "</div>"
      ],
      "text/plain": [
       "                     id             dateAdded           dateUpdated  \\\n",
       "0  AVqVGZNvQMlgsOJE6eUY  2017-03-03T16:56:05Z  2018-10-25T16:36:31Z   \n",
       "1  AVqVGZNvQMlgsOJE6eUY  2017-03-03T16:56:05Z  2018-10-25T16:36:31Z   \n",
       "2  AVqVGZNvQMlgsOJE6eUY  2017-03-03T16:56:05Z  2018-10-25T16:36:31Z   \n",
       "3  AVqVGZNvQMlgsOJE6eUY  2017-03-03T16:56:05Z  2018-10-25T16:36:31Z   \n",
       "4  AVqVGZNvQMlgsOJE6eUY  2017-03-03T16:56:05Z  2018-10-25T16:36:31Z   \n",
       "\n",
       "                                                name       asins   brand  \\\n",
       "0  Amazon Kindle E-Reader 6\" Wifi (8th Generation...  B00ZV9PXP2  Amazon   \n",
       "1  Amazon Kindle E-Reader 6\" Wifi (8th Generation...  B00ZV9PXP2  Amazon   \n",
       "2  Amazon Kindle E-Reader 6\" Wifi (8th Generation...  B00ZV9PXP2  Amazon   \n",
       "3  Amazon Kindle E-Reader 6\" Wifi (8th Generation...  B00ZV9PXP2  Amazon   \n",
       "4  Amazon Kindle E-Reader 6\" Wifi (8th Generation...  B00ZV9PXP2  Amazon   \n",
       "\n",
       "                                          categories primaryCategories  \\\n",
       "0  Computers,Electronics Features,Tablets,Electro...       Electronics   \n",
       "1  Computers,Electronics Features,Tablets,Electro...       Electronics   \n",
       "2  Computers,Electronics Features,Tablets,Electro...       Electronics   \n",
       "3  Computers,Electronics Features,Tablets,Electro...       Electronics   \n",
       "4  Computers,Electronics Features,Tablets,Electro...       Electronics   \n",
       "\n",
       "                                           imageURLs  \\\n",
       "0  https://pisces.bbystatic.com/image2/BestBuy_US...   \n",
       "1  https://pisces.bbystatic.com/image2/BestBuy_US...   \n",
       "2  https://pisces.bbystatic.com/image2/BestBuy_US...   \n",
       "3  https://pisces.bbystatic.com/image2/BestBuy_US...   \n",
       "4  https://pisces.bbystatic.com/image2/BestBuy_US...   \n",
       "\n",
       "                                                keys  ...  \\\n",
       "0  allnewkindleereaderblack6glarefreetouchscreend...  ...   \n",
       "1  allnewkindleereaderblack6glarefreetouchscreend...  ...   \n",
       "2  allnewkindleereaderblack6glarefreetouchscreend...  ...   \n",
       "3  allnewkindleereaderblack6glarefreetouchscreend...  ...   \n",
       "4  allnewkindleereaderblack6glarefreetouchscreend...  ...   \n",
       "\n",
       "                                    reviews.dateSeen reviews.doRecommend  \\\n",
       "0  2018-05-27T00:00:00Z,2017-09-18T00:00:00Z,2017...               False   \n",
       "1  2018-05-27T00:00:00Z,2017-07-07T00:00:00Z,2017...                True   \n",
       "2                               2018-05-27T00:00:00Z                True   \n",
       "3                               2018-10-09T00:00:00Z                True   \n",
       "4                               2018-05-27T00:00:00Z                True   \n",
       "\n",
       "    reviews.id reviews.numHelpful reviews.rating  \\\n",
       "0          NaN                  0              3   \n",
       "1          NaN                  0              5   \n",
       "2          NaN                  0              4   \n",
       "3  177283626.0                  3              5   \n",
       "4          NaN                  0              5   \n",
       "\n",
       "                                  reviews.sourceURLs  \\\n",
       "0  http://reviews.bestbuy.com/3545/5442403/review...   \n",
       "1  http://reviews.bestbuy.com/3545/5442403/review...   \n",
       "2  https://reviews.bestbuy.com/3545/5442403/revie...   \n",
       "3  https://redsky.target.com/groot-domain-api/v1/...   \n",
       "4  https://reviews.bestbuy.com/3545/5442403/revie...   \n",
       "\n",
       "                                        reviews.text  \\\n",
       "0  I thought it would be as big as small paper bu...   \n",
       "1  This kindle is light and easy to use especiall...   \n",
       "2  Didnt know how much i'd use a kindle so went f...   \n",
       "3  I am 100 happy with my purchase. I caught it o...   \n",
       "4  Solid entry level Kindle. Great for kids. Gift...   \n",
       "\n",
       "                                  reviews.title  reviews.username  \\\n",
       "0                                     Too small            llyyue   \n",
       "1  Great light reader. Easy to use at the beach            Charmi   \n",
       "2                           Great for the price      johnnyjojojo   \n",
       "3                                   A Great Buy           Kdperry   \n",
       "4      Solid entry-level Kindle. Great for kids       Johnnyblack   \n",
       "\n",
       "                                          sourceURLs  \n",
       "0  https://www.newegg.com/Product/Product.aspx%25...  \n",
       "1  https://www.newegg.com/Product/Product.aspx%25...  \n",
       "2  https://www.newegg.com/Product/Product.aspx%25...  \n",
       "3  https://www.newegg.com/Product/Product.aspx%25...  \n",
       "4  https://www.newegg.com/Product/Product.aspx%25...  \n",
       "\n",
       "[5 rows x 24 columns]"
      ]
     },
     "execution_count": 2,
     "metadata": {},
     "output_type": "execute_result"
    }
   ],
   "source": [
    "review_df = pd.read_csv(\"Amazon_Product_Review_Dataset.csv\")\n",
    "review_df.head()"
   ]
  },
  {
   "cell_type": "code",
   "execution_count": 3,
   "metadata": {},
   "outputs": [
    {
     "data": {
      "text/plain": [
       "(5000, 24)"
      ]
     },
     "execution_count": 3,
     "metadata": {},
     "output_type": "execute_result"
    }
   ],
   "source": [
    "review_df.shape"
   ]
  },
  {
   "cell_type": "markdown",
   "metadata": {},
   "source": [
    "**Too many columns hence we will look at one row for better understanding.**"
   ]
  },
  {
   "cell_type": "code",
   "execution_count": 4,
   "metadata": {},
   "outputs": [
    {
     "data": {
      "text/plain": [
       "id                                                  AVqVGZNvQMlgsOJE6eUY\n",
       "dateAdded                                           2017-03-03T16:56:05Z\n",
       "dateUpdated                                         2018-10-25T16:36:31Z\n",
       "name                   Amazon Kindle E-Reader 6\" Wifi (8th Generation...\n",
       "asins                                                         B00ZV9PXP2\n",
       "brand                                                             Amazon\n",
       "categories             Computers,Electronics Features,Tablets,Electro...\n",
       "primaryCategories                                            Electronics\n",
       "imageURLs              https://pisces.bbystatic.com/image2/BestBuy_US...\n",
       "keys                   allnewkindleereaderblack6glarefreetouchscreend...\n",
       "manufacturer                                                      Amazon\n",
       "manufacturerNumber                                            B00ZV9PXP2\n",
       "reviews.date                                    2017-06-06T00:00:00.000Z\n",
       "reviews.dateAdded                                                    NaN\n",
       "reviews.dateSeen       2018-05-27T00:00:00Z,2017-07-07T00:00:00Z,2017...\n",
       "reviews.doRecommend                                                 True\n",
       "reviews.id                                                           NaN\n",
       "reviews.numHelpful                                                     0\n",
       "reviews.rating                                                         5\n",
       "reviews.sourceURLs     http://reviews.bestbuy.com/3545/5442403/review...\n",
       "reviews.text           This kindle is light and easy to use especiall...\n",
       "reviews.title               Great light reader. Easy to use at the beach\n",
       "reviews.username                                                  Charmi\n",
       "sourceURLs             https://www.newegg.com/Product/Product.aspx%25...\n",
       "Name: 1, dtype: object"
      ]
     },
     "execution_count": 4,
     "metadata": {},
     "output_type": "execute_result"
    }
   ],
   "source": [
    "review_df.iloc[1]"
   ]
  },
  {
   "cell_type": "markdown",
   "metadata": {},
   "source": [
    "**There are 24 columns and for our analysis we don't need url or product ID type data. Lets select only required columns.**"
   ]
  },
  {
   "cell_type": "code",
   "execution_count": 5,
   "metadata": {},
   "outputs": [
    {
     "data": {
      "text/html": [
       "<div>\n",
       "<style scoped>\n",
       "    .dataframe tbody tr th:only-of-type {\n",
       "        vertical-align: middle;\n",
       "    }\n",
       "\n",
       "    .dataframe tbody tr th {\n",
       "        vertical-align: top;\n",
       "    }\n",
       "\n",
       "    .dataframe thead th {\n",
       "        text-align: right;\n",
       "    }\n",
       "</style>\n",
       "<table border=\"1\" class=\"dataframe\">\n",
       "  <thead>\n",
       "    <tr style=\"text-align: right;\">\n",
       "      <th></th>\n",
       "      <th>name</th>\n",
       "      <th>primaryCategories</th>\n",
       "      <th>manufacturer</th>\n",
       "      <th>reviews.doRecommend</th>\n",
       "      <th>reviews.rating</th>\n",
       "      <th>reviews.text</th>\n",
       "    </tr>\n",
       "  </thead>\n",
       "  <tbody>\n",
       "    <tr>\n",
       "      <th>0</th>\n",
       "      <td>Amazon Kindle E-Reader 6\" Wifi (8th Generation...</td>\n",
       "      <td>Electronics</td>\n",
       "      <td>Amazon</td>\n",
       "      <td>False</td>\n",
       "      <td>3</td>\n",
       "      <td>I thought it would be as big as small paper bu...</td>\n",
       "    </tr>\n",
       "    <tr>\n",
       "      <th>1</th>\n",
       "      <td>Amazon Kindle E-Reader 6\" Wifi (8th Generation...</td>\n",
       "      <td>Electronics</td>\n",
       "      <td>Amazon</td>\n",
       "      <td>True</td>\n",
       "      <td>5</td>\n",
       "      <td>This kindle is light and easy to use especiall...</td>\n",
       "    </tr>\n",
       "    <tr>\n",
       "      <th>2</th>\n",
       "      <td>Amazon Kindle E-Reader 6\" Wifi (8th Generation...</td>\n",
       "      <td>Electronics</td>\n",
       "      <td>Amazon</td>\n",
       "      <td>True</td>\n",
       "      <td>4</td>\n",
       "      <td>Didnt know how much i'd use a kindle so went f...</td>\n",
       "    </tr>\n",
       "    <tr>\n",
       "      <th>3</th>\n",
       "      <td>Amazon Kindle E-Reader 6\" Wifi (8th Generation...</td>\n",
       "      <td>Electronics</td>\n",
       "      <td>Amazon</td>\n",
       "      <td>True</td>\n",
       "      <td>5</td>\n",
       "      <td>I am 100 happy with my purchase. I caught it o...</td>\n",
       "    </tr>\n",
       "    <tr>\n",
       "      <th>4</th>\n",
       "      <td>Amazon Kindle E-Reader 6\" Wifi (8th Generation...</td>\n",
       "      <td>Electronics</td>\n",
       "      <td>Amazon</td>\n",
       "      <td>True</td>\n",
       "      <td>5</td>\n",
       "      <td>Solid entry level Kindle. Great for kids. Gift...</td>\n",
       "    </tr>\n",
       "    <tr>\n",
       "      <th>...</th>\n",
       "      <td>...</td>\n",
       "      <td>...</td>\n",
       "      <td>...</td>\n",
       "      <td>...</td>\n",
       "      <td>...</td>\n",
       "      <td>...</td>\n",
       "    </tr>\n",
       "    <tr>\n",
       "      <th>4995</th>\n",
       "      <td>Fire Tablet with Alexa, 7\" Display, 16 GB, Mag...</td>\n",
       "      <td>Electronics</td>\n",
       "      <td>Amazon</td>\n",
       "      <td>True</td>\n",
       "      <td>5</td>\n",
       "      <td>This is a great tablet for the price. Amazon i...</td>\n",
       "    </tr>\n",
       "    <tr>\n",
       "      <th>4996</th>\n",
       "      <td>Fire Tablet with Alexa, 7\" Display, 16 GB, Mag...</td>\n",
       "      <td>Electronics</td>\n",
       "      <td>Amazon</td>\n",
       "      <td>True</td>\n",
       "      <td>5</td>\n",
       "      <td>This tablet is the perfect size and so easy to...</td>\n",
       "    </tr>\n",
       "    <tr>\n",
       "      <th>4997</th>\n",
       "      <td>Fire Tablet with Alexa, 7\" Display, 16 GB, Mag...</td>\n",
       "      <td>Electronics</td>\n",
       "      <td>Amazon</td>\n",
       "      <td>True</td>\n",
       "      <td>4</td>\n",
       "      <td>Purchased this for my son. Has room to upgrade...</td>\n",
       "    </tr>\n",
       "    <tr>\n",
       "      <th>4998</th>\n",
       "      <td>Fire Tablet with Alexa, 7\" Display, 16 GB, Mag...</td>\n",
       "      <td>Electronics</td>\n",
       "      <td>Amazon</td>\n",
       "      <td>True</td>\n",
       "      <td>5</td>\n",
       "      <td>I had some thoughts about getting this for a 5...</td>\n",
       "    </tr>\n",
       "    <tr>\n",
       "      <th>4999</th>\n",
       "      <td>Fire Tablet with Alexa, 7\" Display, 16 GB, Mag...</td>\n",
       "      <td>Electronics</td>\n",
       "      <td>Amazon</td>\n",
       "      <td>True</td>\n",
       "      <td>5</td>\n",
       "      <td>this is a steal, have 8 gb model as well.This ...</td>\n",
       "    </tr>\n",
       "  </tbody>\n",
       "</table>\n",
       "<p>5000 rows × 6 columns</p>\n",
       "</div>"
      ],
      "text/plain": [
       "                                                   name primaryCategories  \\\n",
       "0     Amazon Kindle E-Reader 6\" Wifi (8th Generation...       Electronics   \n",
       "1     Amazon Kindle E-Reader 6\" Wifi (8th Generation...       Electronics   \n",
       "2     Amazon Kindle E-Reader 6\" Wifi (8th Generation...       Electronics   \n",
       "3     Amazon Kindle E-Reader 6\" Wifi (8th Generation...       Electronics   \n",
       "4     Amazon Kindle E-Reader 6\" Wifi (8th Generation...       Electronics   \n",
       "...                                                 ...               ...   \n",
       "4995  Fire Tablet with Alexa, 7\" Display, 16 GB, Mag...       Electronics   \n",
       "4996  Fire Tablet with Alexa, 7\" Display, 16 GB, Mag...       Electronics   \n",
       "4997  Fire Tablet with Alexa, 7\" Display, 16 GB, Mag...       Electronics   \n",
       "4998  Fire Tablet with Alexa, 7\" Display, 16 GB, Mag...       Electronics   \n",
       "4999  Fire Tablet with Alexa, 7\" Display, 16 GB, Mag...       Electronics   \n",
       "\n",
       "     manufacturer  reviews.doRecommend  reviews.rating  \\\n",
       "0          Amazon                False               3   \n",
       "1          Amazon                 True               5   \n",
       "2          Amazon                 True               4   \n",
       "3          Amazon                 True               5   \n",
       "4          Amazon                 True               5   \n",
       "...           ...                  ...             ...   \n",
       "4995       Amazon                 True               5   \n",
       "4996       Amazon                 True               5   \n",
       "4997       Amazon                 True               4   \n",
       "4998       Amazon                 True               5   \n",
       "4999       Amazon                 True               5   \n",
       "\n",
       "                                           reviews.text  \n",
       "0     I thought it would be as big as small paper bu...  \n",
       "1     This kindle is light and easy to use especiall...  \n",
       "2     Didnt know how much i'd use a kindle so went f...  \n",
       "3     I am 100 happy with my purchase. I caught it o...  \n",
       "4     Solid entry level Kindle. Great for kids. Gift...  \n",
       "...                                                 ...  \n",
       "4995  This is a great tablet for the price. Amazon i...  \n",
       "4996  This tablet is the perfect size and so easy to...  \n",
       "4997  Purchased this for my son. Has room to upgrade...  \n",
       "4998  I had some thoughts about getting this for a 5...  \n",
       "4999  this is a steal, have 8 gb model as well.This ...  \n",
       "\n",
       "[5000 rows x 6 columns]"
      ]
     },
     "execution_count": 5,
     "metadata": {},
     "output_type": "execute_result"
    }
   ],
   "source": [
    "review_df = review_df[['name', 'primaryCategories', 'manufacturer', 'reviews.doRecommend', 'reviews.rating', 'reviews.text']]\n",
    "review_df"
   ]
  },
  {
   "cell_type": "markdown",
   "metadata": {},
   "source": [
    "**Rename columns for easy access.**"
   ]
  },
  {
   "cell_type": "code",
   "execution_count": 6,
   "metadata": {},
   "outputs": [
    {
     "data": {
      "text/html": [
       "<div>\n",
       "<style scoped>\n",
       "    .dataframe tbody tr th:only-of-type {\n",
       "        vertical-align: middle;\n",
       "    }\n",
       "\n",
       "    .dataframe tbody tr th {\n",
       "        vertical-align: top;\n",
       "    }\n",
       "\n",
       "    .dataframe thead th {\n",
       "        text-align: right;\n",
       "    }\n",
       "</style>\n",
       "<table border=\"1\" class=\"dataframe\">\n",
       "  <thead>\n",
       "    <tr style=\"text-align: right;\">\n",
       "      <th></th>\n",
       "      <th>product_name</th>\n",
       "      <th>product_category</th>\n",
       "      <th>manufacturer</th>\n",
       "      <th>recommend</th>\n",
       "      <th>review_rating</th>\n",
       "      <th>review_text</th>\n",
       "    </tr>\n",
       "  </thead>\n",
       "  <tbody>\n",
       "    <tr>\n",
       "      <th>0</th>\n",
       "      <td>Amazon Kindle E-Reader 6\" Wifi (8th Generation...</td>\n",
       "      <td>Electronics</td>\n",
       "      <td>Amazon</td>\n",
       "      <td>False</td>\n",
       "      <td>3</td>\n",
       "      <td>I thought it would be as big as small paper bu...</td>\n",
       "    </tr>\n",
       "    <tr>\n",
       "      <th>1</th>\n",
       "      <td>Amazon Kindle E-Reader 6\" Wifi (8th Generation...</td>\n",
       "      <td>Electronics</td>\n",
       "      <td>Amazon</td>\n",
       "      <td>True</td>\n",
       "      <td>5</td>\n",
       "      <td>This kindle is light and easy to use especiall...</td>\n",
       "    </tr>\n",
       "    <tr>\n",
       "      <th>2</th>\n",
       "      <td>Amazon Kindle E-Reader 6\" Wifi (8th Generation...</td>\n",
       "      <td>Electronics</td>\n",
       "      <td>Amazon</td>\n",
       "      <td>True</td>\n",
       "      <td>4</td>\n",
       "      <td>Didnt know how much i'd use a kindle so went f...</td>\n",
       "    </tr>\n",
       "    <tr>\n",
       "      <th>3</th>\n",
       "      <td>Amazon Kindle E-Reader 6\" Wifi (8th Generation...</td>\n",
       "      <td>Electronics</td>\n",
       "      <td>Amazon</td>\n",
       "      <td>True</td>\n",
       "      <td>5</td>\n",
       "      <td>I am 100 happy with my purchase. I caught it o...</td>\n",
       "    </tr>\n",
       "    <tr>\n",
       "      <th>4</th>\n",
       "      <td>Amazon Kindle E-Reader 6\" Wifi (8th Generation...</td>\n",
       "      <td>Electronics</td>\n",
       "      <td>Amazon</td>\n",
       "      <td>True</td>\n",
       "      <td>5</td>\n",
       "      <td>Solid entry level Kindle. Great for kids. Gift...</td>\n",
       "    </tr>\n",
       "  </tbody>\n",
       "</table>\n",
       "</div>"
      ],
      "text/plain": [
       "                                        product_name product_category  \\\n",
       "0  Amazon Kindle E-Reader 6\" Wifi (8th Generation...      Electronics   \n",
       "1  Amazon Kindle E-Reader 6\" Wifi (8th Generation...      Electronics   \n",
       "2  Amazon Kindle E-Reader 6\" Wifi (8th Generation...      Electronics   \n",
       "3  Amazon Kindle E-Reader 6\" Wifi (8th Generation...      Electronics   \n",
       "4  Amazon Kindle E-Reader 6\" Wifi (8th Generation...      Electronics   \n",
       "\n",
       "  manufacturer  recommend  review_rating  \\\n",
       "0       Amazon      False              3   \n",
       "1       Amazon       True              5   \n",
       "2       Amazon       True              4   \n",
       "3       Amazon       True              5   \n",
       "4       Amazon       True              5   \n",
       "\n",
       "                                         review_text  \n",
       "0  I thought it would be as big as small paper bu...  \n",
       "1  This kindle is light and easy to use especiall...  \n",
       "2  Didnt know how much i'd use a kindle so went f...  \n",
       "3  I am 100 happy with my purchase. I caught it o...  \n",
       "4  Solid entry level Kindle. Great for kids. Gift...  "
      ]
     },
     "execution_count": 6,
     "metadata": {},
     "output_type": "execute_result"
    }
   ],
   "source": [
    "new_columns = ['product_name', 'product_category', 'manufacturer', 'recommend', 'review_rating', 'review_text']\n",
    "review_df.columns = new_columns\n",
    "review_df.head()"
   ]
  },
  {
   "cell_type": "markdown",
   "metadata": {},
   "source": [
    "### Check the dimensions of the data."
   ]
  },
  {
   "cell_type": "code",
   "execution_count": 7,
   "metadata": {},
   "outputs": [
    {
     "data": {
      "text/plain": [
       "(5000, 6)"
      ]
     },
     "execution_count": 7,
     "metadata": {},
     "output_type": "execute_result"
    }
   ],
   "source": [
    "review_df.shape"
   ]
  },
  {
   "cell_type": "markdown",
   "metadata": {},
   "source": [
    "We can see there are 5000 rows and 6 columns. "
   ]
  },
  {
   "cell_type": "markdown",
   "metadata": {},
   "source": [
    "### Verify if any missing values."
   ]
  },
  {
   "cell_type": "code",
   "execution_count": 8,
   "metadata": {},
   "outputs": [
    {
     "data": {
      "text/plain": [
       "product_name        0\n",
       "product_category    0\n",
       "manufacturer        0\n",
       "recommend           0\n",
       "review_rating       0\n",
       "review_text         0\n",
       "dtype: int64"
      ]
     },
     "execution_count": 8,
     "metadata": {},
     "output_type": "execute_result"
    }
   ],
   "source": [
    "review_df.isnull().sum()"
   ]
  },
  {
   "cell_type": "markdown",
   "metadata": {},
   "source": [
    "So we can see that there are no null values in any columns."
   ]
  },
  {
   "cell_type": "code",
   "execution_count": 9,
   "metadata": {},
   "outputs": [
    {
     "data": {
      "text/html": [
       "<div>\n",
       "<style scoped>\n",
       "    .dataframe tbody tr th:only-of-type {\n",
       "        vertical-align: middle;\n",
       "    }\n",
       "\n",
       "    .dataframe tbody tr th {\n",
       "        vertical-align: top;\n",
       "    }\n",
       "\n",
       "    .dataframe thead th {\n",
       "        text-align: right;\n",
       "    }\n",
       "</style>\n",
       "<table border=\"1\" class=\"dataframe\">\n",
       "  <thead>\n",
       "    <tr style=\"text-align: right;\">\n",
       "      <th></th>\n",
       "      <th>review_rating</th>\n",
       "    </tr>\n",
       "  </thead>\n",
       "  <tbody>\n",
       "    <tr>\n",
       "      <th>count</th>\n",
       "      <td>5000.000000</td>\n",
       "    </tr>\n",
       "    <tr>\n",
       "      <th>mean</th>\n",
       "      <td>4.596800</td>\n",
       "    </tr>\n",
       "    <tr>\n",
       "      <th>std</th>\n",
       "      <td>0.731804</td>\n",
       "    </tr>\n",
       "    <tr>\n",
       "      <th>min</th>\n",
       "      <td>1.000000</td>\n",
       "    </tr>\n",
       "    <tr>\n",
       "      <th>25%</th>\n",
       "      <td>4.000000</td>\n",
       "    </tr>\n",
       "    <tr>\n",
       "      <th>50%</th>\n",
       "      <td>5.000000</td>\n",
       "    </tr>\n",
       "    <tr>\n",
       "      <th>75%</th>\n",
       "      <td>5.000000</td>\n",
       "    </tr>\n",
       "    <tr>\n",
       "      <th>max</th>\n",
       "      <td>5.000000</td>\n",
       "    </tr>\n",
       "  </tbody>\n",
       "</table>\n",
       "</div>"
      ],
      "text/plain": [
       "       review_rating\n",
       "count    5000.000000\n",
       "mean        4.596800\n",
       "std         0.731804\n",
       "min         1.000000\n",
       "25%         4.000000\n",
       "50%         5.000000\n",
       "75%         5.000000\n",
       "max         5.000000"
      ]
     },
     "execution_count": 9,
     "metadata": {},
     "output_type": "execute_result"
    }
   ],
   "source": [
    "review_df.describe()"
   ]
  },
  {
   "cell_type": "markdown",
   "metadata": {},
   "source": [
    "Review rating is the only numeric data in our dataset. Max is 5 and min is 1 which reconfirms there are null or zero values. "
   ]
  },
  {
   "cell_type": "code",
   "execution_count": 10,
   "metadata": {},
   "outputs": [
    {
     "data": {
      "text/html": [
       "<div>\n",
       "<style scoped>\n",
       "    .dataframe tbody tr th:only-of-type {\n",
       "        vertical-align: middle;\n",
       "    }\n",
       "\n",
       "    .dataframe tbody tr th {\n",
       "        vertical-align: top;\n",
       "    }\n",
       "\n",
       "    .dataframe thead th {\n",
       "        text-align: right;\n",
       "    }\n",
       "</style>\n",
       "<table border=\"1\" class=\"dataframe\">\n",
       "  <thead>\n",
       "    <tr style=\"text-align: right;\">\n",
       "      <th></th>\n",
       "      <th>product_name</th>\n",
       "      <th>product_category</th>\n",
       "      <th>manufacturer</th>\n",
       "      <th>review_text</th>\n",
       "    </tr>\n",
       "  </thead>\n",
       "  <tbody>\n",
       "    <tr>\n",
       "      <th>count</th>\n",
       "      <td>5000</td>\n",
       "      <td>5000</td>\n",
       "      <td>5000</td>\n",
       "      <td>5000</td>\n",
       "    </tr>\n",
       "    <tr>\n",
       "      <th>unique</th>\n",
       "      <td>23</td>\n",
       "      <td>4</td>\n",
       "      <td>1</td>\n",
       "      <td>4385</td>\n",
       "    </tr>\n",
       "    <tr>\n",
       "      <th>top</th>\n",
       "      <td>Amazon Echo Show Alexa-enabled Bluetooth Speak...</td>\n",
       "      <td>Electronics</td>\n",
       "      <td>Amazon</td>\n",
       "      <td>Got this for my Daughter-in-Law and she loves ...</td>\n",
       "    </tr>\n",
       "    <tr>\n",
       "      <th>freq</th>\n",
       "      <td>845</td>\n",
       "      <td>3276</td>\n",
       "      <td>5000</td>\n",
       "      <td>4</td>\n",
       "    </tr>\n",
       "  </tbody>\n",
       "</table>\n",
       "</div>"
      ],
      "text/plain": [
       "                                             product_name product_category  \\\n",
       "count                                                5000             5000   \n",
       "unique                                                 23                4   \n",
       "top     Amazon Echo Show Alexa-enabled Bluetooth Speak...      Electronics   \n",
       "freq                                                  845             3276   \n",
       "\n",
       "       manufacturer                                        review_text  \n",
       "count          5000                                               5000  \n",
       "unique            1                                               4385  \n",
       "top          Amazon  Got this for my Daughter-in-Law and she loves ...  \n",
       "freq           5000                                                  4  "
      ]
     },
     "execution_count": 10,
     "metadata": {},
     "output_type": "execute_result"
    }
   ],
   "source": [
    "review_df.describe(include=['O'])"
   ]
  },
  {
   "cell_type": "markdown",
   "metadata": {},
   "source": [
    "Data summary shows that, there are 23 products from 4 unique categories for one manufacturer. "
   ]
  },
  {
   "cell_type": "markdown",
   "metadata": {},
   "source": [
    "### Based on each rating check the text size distribution using histogram."
   ]
  },
  {
   "cell_type": "code",
   "execution_count": 11,
   "metadata": {},
   "outputs": [],
   "source": [
    "review_df[\"review_length\"] = review_df[\"review_text\"].apply(len)"
   ]
  },
  {
   "cell_type": "markdown",
   "metadata": {},
   "source": [
    "### Use box plot for each star rating."
   ]
  },
  {
   "cell_type": "code",
   "execution_count": 12,
   "metadata": {},
   "outputs": [
    {
     "data": {
      "image/png": "[encoded data removed]",
      "text/plain": [
       "<Figure size 432x288 with 1 Axes>"
      ]
     },
     "metadata": {
      "needs_background": "light"
     },
     "output_type": "display_data"
    }
   ],
   "source": [
    "plt.boxplot(review_df.review_rating)\n",
    "plt.title('Boxplot of rating')\n",
    "plt.show()"
   ]
  },
  {
   "cell_type": "markdown",
   "metadata": {},
   "source": [
    "### Histogram of each rating."
   ]
  },
  {
   "cell_type": "code",
   "execution_count": 13,
   "metadata": {},
   "outputs": [
    {
     "data": {
      "image/png": "[encoded data removed]",
      "text/plain": [
       "<Figure size 432x288 with 1 Axes>"
      ]
     },
     "metadata": {
      "needs_background": "light"
     },
     "output_type": "display_data"
    }
   ],
   "source": [
    "plt.hist(review_df.review_rating)\n",
    "plt.xlabel('Review rating')\n",
    "plt.ylabel('Count')\n",
    "plt.title('Review rating count plot')\n",
    "plt.show()"
   ]
  },
  {
   "cell_type": "code",
   "execution_count": 14,
   "metadata": {},
   "outputs": [
    {
     "data": {
      "image/png": "[encoded data removed]",
      "text/plain": [
       "<Figure size 432x288 with 1 Axes>"
      ]
     },
     "metadata": {
      "needs_background": "light"
     },
     "output_type": "display_data"
    }
   ],
   "source": [
    "plt.scatter(review_df.review_rating, review_df.review_length)\n",
    "plt.xlabel('Review rating')\n",
    "plt.ylabel('Review text length(#of Words)')\n",
    "plt.title('Review rating vs Review text length')\n",
    "plt.show()"
   ]
  },
  {
   "cell_type": "markdown",
   "metadata": {},
   "source": [
    "# Exercise 7.3"
   ]
  },
  {
   "cell_type": "code",
   "execution_count": 15,
   "metadata": {},
   "outputs": [
    {
     "data": {
      "text/html": [
       "<div>\n",
       "<style scoped>\n",
       "    .dataframe tbody tr th:only-of-type {\n",
       "        vertical-align: middle;\n",
       "    }\n",
       "\n",
       "    .dataframe tbody tr th {\n",
       "        vertical-align: top;\n",
       "    }\n",
       "\n",
       "    .dataframe thead th {\n",
       "        text-align: right;\n",
       "    }\n",
       "</style>\n",
       "<table border=\"1\" class=\"dataframe\">\n",
       "  <thead>\n",
       "    <tr style=\"text-align: right;\">\n",
       "      <th></th>\n",
       "      <th>product_name</th>\n",
       "      <th>product_category</th>\n",
       "      <th>manufacturer</th>\n",
       "      <th>recommend</th>\n",
       "      <th>review_rating</th>\n",
       "      <th>review_text</th>\n",
       "      <th>review_length</th>\n",
       "    </tr>\n",
       "  </thead>\n",
       "  <tbody>\n",
       "    <tr>\n",
       "      <th>0</th>\n",
       "      <td>Amazon Kindle E-Reader 6\" Wifi (8th Generation...</td>\n",
       "      <td>Electronics</td>\n",
       "      <td>Amazon</td>\n",
       "      <td>False</td>\n",
       "      <td>3</td>\n",
       "      <td>I thought it would be as big as small paper bu...</td>\n",
       "      <td>211</td>\n",
       "    </tr>\n",
       "    <tr>\n",
       "      <th>1</th>\n",
       "      <td>Amazon Kindle E-Reader 6\" Wifi (8th Generation...</td>\n",
       "      <td>Electronics</td>\n",
       "      <td>Amazon</td>\n",
       "      <td>True</td>\n",
       "      <td>5</td>\n",
       "      <td>This kindle is light and easy to use especiall...</td>\n",
       "      <td>63</td>\n",
       "    </tr>\n",
       "    <tr>\n",
       "      <th>2</th>\n",
       "      <td>Amazon Kindle E-Reader 6\" Wifi (8th Generation...</td>\n",
       "      <td>Electronics</td>\n",
       "      <td>Amazon</td>\n",
       "      <td>True</td>\n",
       "      <td>4</td>\n",
       "      <td>Didnt know how much i'd use a kindle so went f...</td>\n",
       "      <td>107</td>\n",
       "    </tr>\n",
       "    <tr>\n",
       "      <th>3</th>\n",
       "      <td>Amazon Kindle E-Reader 6\" Wifi (8th Generation...</td>\n",
       "      <td>Electronics</td>\n",
       "      <td>Amazon</td>\n",
       "      <td>True</td>\n",
       "      <td>5</td>\n",
       "      <td>I am 100 happy with my purchase. I caught it o...</td>\n",
       "      <td>757</td>\n",
       "    </tr>\n",
       "    <tr>\n",
       "      <th>4</th>\n",
       "      <td>Amazon Kindle E-Reader 6\" Wifi (8th Generation...</td>\n",
       "      <td>Electronics</td>\n",
       "      <td>Amazon</td>\n",
       "      <td>True</td>\n",
       "      <td>5</td>\n",
       "      <td>Solid entry level Kindle. Great for kids. Gift...</td>\n",
       "      <td>176</td>\n",
       "    </tr>\n",
       "  </tbody>\n",
       "</table>\n",
       "</div>"
      ],
      "text/plain": [
       "                                        product_name product_category  \\\n",
       "0  Amazon Kindle E-Reader 6\" Wifi (8th Generation...      Electronics   \n",
       "1  Amazon Kindle E-Reader 6\" Wifi (8th Generation...      Electronics   \n",
       "2  Amazon Kindle E-Reader 6\" Wifi (8th Generation...      Electronics   \n",
       "3  Amazon Kindle E-Reader 6\" Wifi (8th Generation...      Electronics   \n",
       "4  Amazon Kindle E-Reader 6\" Wifi (8th Generation...      Electronics   \n",
       "\n",
       "  manufacturer  recommend  review_rating  \\\n",
       "0       Amazon      False              3   \n",
       "1       Amazon       True              5   \n",
       "2       Amazon       True              4   \n",
       "3       Amazon       True              5   \n",
       "4       Amazon       True              5   \n",
       "\n",
       "                                         review_text  review_length  \n",
       "0  I thought it would be as big as small paper bu...            211  \n",
       "1  This kindle is light and easy to use especiall...             63  \n",
       "2  Didnt know how much i'd use a kindle so went f...            107  \n",
       "3  I am 100 happy with my purchase. I caught it o...            757  \n",
       "4  Solid entry level Kindle. Great for kids. Gift...            176  "
      ]
     },
     "execution_count": 15,
     "metadata": {},
     "output_type": "execute_result"
    }
   ],
   "source": [
    "review_df.head()"
   ]
  },
  {
   "cell_type": "markdown",
   "metadata": {},
   "source": [
    "#### Group the data by review rating and check the mean of text length per review rating."
   ]
  },
  {
   "cell_type": "code",
   "execution_count": 16,
   "metadata": {},
   "outputs": [
    {
     "data": {
      "text/html": [
       "<div>\n",
       "<style scoped>\n",
       "    .dataframe tbody tr th:only-of-type {\n",
       "        vertical-align: middle;\n",
       "    }\n",
       "\n",
       "    .dataframe tbody tr th {\n",
       "        vertical-align: top;\n",
       "    }\n",
       "\n",
       "    .dataframe thead th {\n",
       "        text-align: right;\n",
       "    }\n",
       "</style>\n",
       "<table border=\"1\" class=\"dataframe\">\n",
       "  <thead>\n",
       "    <tr style=\"text-align: right;\">\n",
       "      <th></th>\n",
       "      <th>recommend</th>\n",
       "      <th>review_length</th>\n",
       "    </tr>\n",
       "    <tr>\n",
       "      <th>review_rating</th>\n",
       "      <th></th>\n",
       "      <th></th>\n",
       "    </tr>\n",
       "  </thead>\n",
       "  <tbody>\n",
       "    <tr>\n",
       "      <th>1</th>\n",
       "      <td>0.031746</td>\n",
       "      <td>300.015873</td>\n",
       "    </tr>\n",
       "    <tr>\n",
       "      <th>2</th>\n",
       "      <td>0.129630</td>\n",
       "      <td>186.703704</td>\n",
       "    </tr>\n",
       "    <tr>\n",
       "      <th>3</th>\n",
       "      <td>0.543147</td>\n",
       "      <td>180.817259</td>\n",
       "    </tr>\n",
       "    <tr>\n",
       "      <th>4</th>\n",
       "      <td>0.979305</td>\n",
       "      <td>176.538079</td>\n",
       "    </tr>\n",
       "    <tr>\n",
       "      <th>5</th>\n",
       "      <td>0.996550</td>\n",
       "      <td>152.064405</td>\n",
       "    </tr>\n",
       "  </tbody>\n",
       "</table>\n",
       "</div>"
      ],
      "text/plain": [
       "               recommend  review_length\n",
       "review_rating                          \n",
       "1               0.031746     300.015873\n",
       "2               0.129630     186.703704\n",
       "3               0.543147     180.817259\n",
       "4               0.979305     176.538079\n",
       "5               0.996550     152.064405"
      ]
     },
     "execution_count": 16,
     "metadata": {},
     "output_type": "execute_result"
    }
   ],
   "source": [
    "group_by_rating = review_df.groupby(\"review_rating\").mean()\n",
    "group_by_rating"
   ]
  },
  {
   "cell_type": "markdown",
   "metadata": {},
   "source": [
    "#### Find the coorelation between selected features. "
   ]
  },
  {
   "cell_type": "code",
   "execution_count": 17,
   "metadata": {},
   "outputs": [
    {
     "data": {
      "text/html": [
       "<div>\n",
       "<style scoped>\n",
       "    .dataframe tbody tr th:only-of-type {\n",
       "        vertical-align: middle;\n",
       "    }\n",
       "\n",
       "    .dataframe tbody tr th {\n",
       "        vertical-align: top;\n",
       "    }\n",
       "\n",
       "    .dataframe thead th {\n",
       "        text-align: right;\n",
       "    }\n",
       "</style>\n",
       "<table border=\"1\" class=\"dataframe\">\n",
       "  <thead>\n",
       "    <tr style=\"text-align: right;\">\n",
       "      <th></th>\n",
       "      <th>recommend</th>\n",
       "      <th>review_length</th>\n",
       "    </tr>\n",
       "  </thead>\n",
       "  <tbody>\n",
       "    <tr>\n",
       "      <th>recommend</th>\n",
       "      <td>1.000000</td>\n",
       "      <td>-0.737276</td>\n",
       "    </tr>\n",
       "    <tr>\n",
       "      <th>review_length</th>\n",
       "      <td>-0.737276</td>\n",
       "      <td>1.000000</td>\n",
       "    </tr>\n",
       "  </tbody>\n",
       "</table>\n",
       "</div>"
      ],
      "text/plain": [
       "               recommend  review_length\n",
       "recommend       1.000000      -0.737276\n",
       "review_length  -0.737276       1.000000"
      ]
     },
     "execution_count": 17,
     "metadata": {},
     "output_type": "execute_result"
    }
   ],
   "source": [
    "group_by_rating.corr()"
   ]
  },
  {
   "cell_type": "markdown",
   "metadata": {},
   "source": [
    "### 7.3.1 - Preprocessing Steps"
   ]
  },
  {
   "cell_type": "markdown",
   "metadata": {},
   "source": [
    "#### Lowercase all the text."
   ]
  },
  {
   "cell_type": "code",
   "execution_count": 18,
   "metadata": {},
   "outputs": [
    {
     "data": {
      "text/html": [
       "<div>\n",
       "<style scoped>\n",
       "    .dataframe tbody tr th:only-of-type {\n",
       "        vertical-align: middle;\n",
       "    }\n",
       "\n",
       "    .dataframe tbody tr th {\n",
       "        vertical-align: top;\n",
       "    }\n",
       "\n",
       "    .dataframe thead th {\n",
       "        text-align: right;\n",
       "    }\n",
       "</style>\n",
       "<table border=\"1\" class=\"dataframe\">\n",
       "  <thead>\n",
       "    <tr style=\"text-align: right;\">\n",
       "      <th></th>\n",
       "      <th>product_name</th>\n",
       "      <th>product_category</th>\n",
       "      <th>manufacturer</th>\n",
       "      <th>recommend</th>\n",
       "      <th>review_rating</th>\n",
       "      <th>review_text</th>\n",
       "      <th>review_length</th>\n",
       "    </tr>\n",
       "  </thead>\n",
       "  <tbody>\n",
       "    <tr>\n",
       "      <th>0</th>\n",
       "      <td>Amazon Kindle E-Reader 6\" Wifi (8th Generation...</td>\n",
       "      <td>Electronics</td>\n",
       "      <td>Amazon</td>\n",
       "      <td>False</td>\n",
       "      <td>3</td>\n",
       "      <td>i thought it would be as big as small paper bu...</td>\n",
       "      <td>211</td>\n",
       "    </tr>\n",
       "    <tr>\n",
       "      <th>1</th>\n",
       "      <td>Amazon Kindle E-Reader 6\" Wifi (8th Generation...</td>\n",
       "      <td>Electronics</td>\n",
       "      <td>Amazon</td>\n",
       "      <td>True</td>\n",
       "      <td>5</td>\n",
       "      <td>this kindle is light and easy to use especiall...</td>\n",
       "      <td>63</td>\n",
       "    </tr>\n",
       "    <tr>\n",
       "      <th>2</th>\n",
       "      <td>Amazon Kindle E-Reader 6\" Wifi (8th Generation...</td>\n",
       "      <td>Electronics</td>\n",
       "      <td>Amazon</td>\n",
       "      <td>True</td>\n",
       "      <td>4</td>\n",
       "      <td>didnt know how much i'd use a kindle so went f...</td>\n",
       "      <td>107</td>\n",
       "    </tr>\n",
       "    <tr>\n",
       "      <th>3</th>\n",
       "      <td>Amazon Kindle E-Reader 6\" Wifi (8th Generation...</td>\n",
       "      <td>Electronics</td>\n",
       "      <td>Amazon</td>\n",
       "      <td>True</td>\n",
       "      <td>5</td>\n",
       "      <td>i am 100 happy with my purchase. i caught it o...</td>\n",
       "      <td>757</td>\n",
       "    </tr>\n",
       "    <tr>\n",
       "      <th>4</th>\n",
       "      <td>Amazon Kindle E-Reader 6\" Wifi (8th Generation...</td>\n",
       "      <td>Electronics</td>\n",
       "      <td>Amazon</td>\n",
       "      <td>True</td>\n",
       "      <td>5</td>\n",
       "      <td>solid entry level kindle. great for kids. gift...</td>\n",
       "      <td>176</td>\n",
       "    </tr>\n",
       "    <tr>\n",
       "      <th>...</th>\n",
       "      <td>...</td>\n",
       "      <td>...</td>\n",
       "      <td>...</td>\n",
       "      <td>...</td>\n",
       "      <td>...</td>\n",
       "      <td>...</td>\n",
       "      <td>...</td>\n",
       "    </tr>\n",
       "    <tr>\n",
       "      <th>4995</th>\n",
       "      <td>Fire Tablet with Alexa, 7\" Display, 16 GB, Mag...</td>\n",
       "      <td>Electronics</td>\n",
       "      <td>Amazon</td>\n",
       "      <td>True</td>\n",
       "      <td>5</td>\n",
       "      <td>this is a great tablet for the price. amazon i...</td>\n",
       "      <td>64</td>\n",
       "    </tr>\n",
       "    <tr>\n",
       "      <th>4996</th>\n",
       "      <td>Fire Tablet with Alexa, 7\" Display, 16 GB, Mag...</td>\n",
       "      <td>Electronics</td>\n",
       "      <td>Amazon</td>\n",
       "      <td>True</td>\n",
       "      <td>5</td>\n",
       "      <td>this tablet is the perfect size and so easy to...</td>\n",
       "      <td>103</td>\n",
       "    </tr>\n",
       "    <tr>\n",
       "      <th>4997</th>\n",
       "      <td>Fire Tablet with Alexa, 7\" Display, 16 GB, Mag...</td>\n",
       "      <td>Electronics</td>\n",
       "      <td>Amazon</td>\n",
       "      <td>True</td>\n",
       "      <td>4</td>\n",
       "      <td>purchased this for my son. has room to upgrade...</td>\n",
       "      <td>148</td>\n",
       "    </tr>\n",
       "    <tr>\n",
       "      <th>4998</th>\n",
       "      <td>Fire Tablet with Alexa, 7\" Display, 16 GB, Mag...</td>\n",
       "      <td>Electronics</td>\n",
       "      <td>Amazon</td>\n",
       "      <td>True</td>\n",
       "      <td>5</td>\n",
       "      <td>i had some thoughts about getting this for a 5...</td>\n",
       "      <td>136</td>\n",
       "    </tr>\n",
       "    <tr>\n",
       "      <th>4999</th>\n",
       "      <td>Fire Tablet with Alexa, 7\" Display, 16 GB, Mag...</td>\n",
       "      <td>Electronics</td>\n",
       "      <td>Amazon</td>\n",
       "      <td>True</td>\n",
       "      <td>5</td>\n",
       "      <td>this is a steal, have 8 gb model as well.this ...</td>\n",
       "      <td>62</td>\n",
       "    </tr>\n",
       "  </tbody>\n",
       "</table>\n",
       "<p>5000 rows × 7 columns</p>\n",
       "</div>"
      ],
      "text/plain": [
       "                                           product_name product_category  \\\n",
       "0     Amazon Kindle E-Reader 6\" Wifi (8th Generation...      Electronics   \n",
       "1     Amazon Kindle E-Reader 6\" Wifi (8th Generation...      Electronics   \n",
       "2     Amazon Kindle E-Reader 6\" Wifi (8th Generation...      Electronics   \n",
       "3     Amazon Kindle E-Reader 6\" Wifi (8th Generation...      Electronics   \n",
       "4     Amazon Kindle E-Reader 6\" Wifi (8th Generation...      Electronics   \n",
       "...                                                 ...              ...   \n",
       "4995  Fire Tablet with Alexa, 7\" Display, 16 GB, Mag...      Electronics   \n",
       "4996  Fire Tablet with Alexa, 7\" Display, 16 GB, Mag...      Electronics   \n",
       "4997  Fire Tablet with Alexa, 7\" Display, 16 GB, Mag...      Electronics   \n",
       "4998  Fire Tablet with Alexa, 7\" Display, 16 GB, Mag...      Electronics   \n",
       "4999  Fire Tablet with Alexa, 7\" Display, 16 GB, Mag...      Electronics   \n",
       "\n",
       "     manufacturer  recommend  review_rating  \\\n",
       "0          Amazon      False              3   \n",
       "1          Amazon       True              5   \n",
       "2          Amazon       True              4   \n",
       "3          Amazon       True              5   \n",
       "4          Amazon       True              5   \n",
       "...           ...        ...            ...   \n",
       "4995       Amazon       True              5   \n",
       "4996       Amazon       True              5   \n",
       "4997       Amazon       True              4   \n",
       "4998       Amazon       True              5   \n",
       "4999       Amazon       True              5   \n",
       "\n",
       "                                            review_text  review_length  \n",
       "0     i thought it would be as big as small paper bu...            211  \n",
       "1     this kindle is light and easy to use especiall...             63  \n",
       "2     didnt know how much i'd use a kindle so went f...            107  \n",
       "3     i am 100 happy with my purchase. i caught it o...            757  \n",
       "4     solid entry level kindle. great for kids. gift...            176  \n",
       "...                                                 ...            ...  \n",
       "4995  this is a great tablet for the price. amazon i...             64  \n",
       "4996  this tablet is the perfect size and so easy to...            103  \n",
       "4997  purchased this for my son. has room to upgrade...            148  \n",
       "4998  i had some thoughts about getting this for a 5...            136  \n",
       "4999  this is a steal, have 8 gb model as well.this ...             62  \n",
       "\n",
       "[5000 rows x 7 columns]"
      ]
     },
     "execution_count": 18,
     "metadata": {},
     "output_type": "execute_result"
    }
   ],
   "source": [
    "review_df[\"review_text\"] = review_df[\"review_text\"].str.lower()\n",
    "review_df"
   ]
  },
  {
   "cell_type": "markdown",
   "metadata": {},
   "source": [
    "#### Remove punctuations. "
   ]
  },
  {
   "cell_type": "code",
   "execution_count": 19,
   "metadata": {},
   "outputs": [
    {
     "data": {
      "text/html": [
       "<div>\n",
       "<style scoped>\n",
       "    .dataframe tbody tr th:only-of-type {\n",
       "        vertical-align: middle;\n",
       "    }\n",
       "\n",
       "    .dataframe tbody tr th {\n",
       "        vertical-align: top;\n",
       "    }\n",
       "\n",
       "    .dataframe thead th {\n",
       "        text-align: right;\n",
       "    }\n",
       "</style>\n",
       "<table border=\"1\" class=\"dataframe\">\n",
       "  <thead>\n",
       "    <tr style=\"text-align: right;\">\n",
       "      <th></th>\n",
       "      <th>product_name</th>\n",
       "      <th>product_category</th>\n",
       "      <th>manufacturer</th>\n",
       "      <th>recommend</th>\n",
       "      <th>review_rating</th>\n",
       "      <th>review_text</th>\n",
       "      <th>review_length</th>\n",
       "    </tr>\n",
       "  </thead>\n",
       "  <tbody>\n",
       "    <tr>\n",
       "      <th>0</th>\n",
       "      <td>Amazon Kindle E-Reader 6\" Wifi (8th Generation...</td>\n",
       "      <td>Electronics</td>\n",
       "      <td>Amazon</td>\n",
       "      <td>False</td>\n",
       "      <td>3</td>\n",
       "      <td>i thought it would be as big as small paper bu...</td>\n",
       "      <td>211</td>\n",
       "    </tr>\n",
       "    <tr>\n",
       "      <th>1</th>\n",
       "      <td>Amazon Kindle E-Reader 6\" Wifi (8th Generation...</td>\n",
       "      <td>Electronics</td>\n",
       "      <td>Amazon</td>\n",
       "      <td>True</td>\n",
       "      <td>5</td>\n",
       "      <td>this kindle is light and easy to use especiall...</td>\n",
       "      <td>63</td>\n",
       "    </tr>\n",
       "    <tr>\n",
       "      <th>2</th>\n",
       "      <td>Amazon Kindle E-Reader 6\" Wifi (8th Generation...</td>\n",
       "      <td>Electronics</td>\n",
       "      <td>Amazon</td>\n",
       "      <td>True</td>\n",
       "      <td>4</td>\n",
       "      <td>didnt know how much i d use a kindle so went f...</td>\n",
       "      <td>107</td>\n",
       "    </tr>\n",
       "    <tr>\n",
       "      <th>3</th>\n",
       "      <td>Amazon Kindle E-Reader 6\" Wifi (8th Generation...</td>\n",
       "      <td>Electronics</td>\n",
       "      <td>Amazon</td>\n",
       "      <td>True</td>\n",
       "      <td>5</td>\n",
       "      <td>i am 100 happy with my purchase  i caught it o...</td>\n",
       "      <td>757</td>\n",
       "    </tr>\n",
       "    <tr>\n",
       "      <th>4</th>\n",
       "      <td>Amazon Kindle E-Reader 6\" Wifi (8th Generation...</td>\n",
       "      <td>Electronics</td>\n",
       "      <td>Amazon</td>\n",
       "      <td>True</td>\n",
       "      <td>5</td>\n",
       "      <td>solid entry level kindle  great for kids  gift...</td>\n",
       "      <td>176</td>\n",
       "    </tr>\n",
       "    <tr>\n",
       "      <th>...</th>\n",
       "      <td>...</td>\n",
       "      <td>...</td>\n",
       "      <td>...</td>\n",
       "      <td>...</td>\n",
       "      <td>...</td>\n",
       "      <td>...</td>\n",
       "      <td>...</td>\n",
       "    </tr>\n",
       "    <tr>\n",
       "      <th>4995</th>\n",
       "      <td>Fire Tablet with Alexa, 7\" Display, 16 GB, Mag...</td>\n",
       "      <td>Electronics</td>\n",
       "      <td>Amazon</td>\n",
       "      <td>True</td>\n",
       "      <td>5</td>\n",
       "      <td>this is a great tablet for the price  amazon i...</td>\n",
       "      <td>64</td>\n",
       "    </tr>\n",
       "    <tr>\n",
       "      <th>4996</th>\n",
       "      <td>Fire Tablet with Alexa, 7\" Display, 16 GB, Mag...</td>\n",
       "      <td>Electronics</td>\n",
       "      <td>Amazon</td>\n",
       "      <td>True</td>\n",
       "      <td>5</td>\n",
       "      <td>this tablet is the perfect size and so easy to...</td>\n",
       "      <td>103</td>\n",
       "    </tr>\n",
       "    <tr>\n",
       "      <th>4997</th>\n",
       "      <td>Fire Tablet with Alexa, 7\" Display, 16 GB, Mag...</td>\n",
       "      <td>Electronics</td>\n",
       "      <td>Amazon</td>\n",
       "      <td>True</td>\n",
       "      <td>4</td>\n",
       "      <td>purchased this for my son  has room to upgrade...</td>\n",
       "      <td>148</td>\n",
       "    </tr>\n",
       "    <tr>\n",
       "      <th>4998</th>\n",
       "      <td>Fire Tablet with Alexa, 7\" Display, 16 GB, Mag...</td>\n",
       "      <td>Electronics</td>\n",
       "      <td>Amazon</td>\n",
       "      <td>True</td>\n",
       "      <td>5</td>\n",
       "      <td>i had some thoughts about getting this for a 5...</td>\n",
       "      <td>136</td>\n",
       "    </tr>\n",
       "    <tr>\n",
       "      <th>4999</th>\n",
       "      <td>Fire Tablet with Alexa, 7\" Display, 16 GB, Mag...</td>\n",
       "      <td>Electronics</td>\n",
       "      <td>Amazon</td>\n",
       "      <td>True</td>\n",
       "      <td>5</td>\n",
       "      <td>this is a steal  have 8 gb model as well this ...</td>\n",
       "      <td>62</td>\n",
       "    </tr>\n",
       "  </tbody>\n",
       "</table>\n",
       "<p>5000 rows × 7 columns</p>\n",
       "</div>"
      ],
      "text/plain": [
       "                                           product_name product_category  \\\n",
       "0     Amazon Kindle E-Reader 6\" Wifi (8th Generation...      Electronics   \n",
       "1     Amazon Kindle E-Reader 6\" Wifi (8th Generation...      Electronics   \n",
       "2     Amazon Kindle E-Reader 6\" Wifi (8th Generation...      Electronics   \n",
       "3     Amazon Kindle E-Reader 6\" Wifi (8th Generation...      Electronics   \n",
       "4     Amazon Kindle E-Reader 6\" Wifi (8th Generation...      Electronics   \n",
       "...                                                 ...              ...   \n",
       "4995  Fire Tablet with Alexa, 7\" Display, 16 GB, Mag...      Electronics   \n",
       "4996  Fire Tablet with Alexa, 7\" Display, 16 GB, Mag...      Electronics   \n",
       "4997  Fire Tablet with Alexa, 7\" Display, 16 GB, Mag...      Electronics   \n",
       "4998  Fire Tablet with Alexa, 7\" Display, 16 GB, Mag...      Electronics   \n",
       "4999  Fire Tablet with Alexa, 7\" Display, 16 GB, Mag...      Electronics   \n",
       "\n",
       "     manufacturer  recommend  review_rating  \\\n",
       "0          Amazon      False              3   \n",
       "1          Amazon       True              5   \n",
       "2          Amazon       True              4   \n",
       "3          Amazon       True              5   \n",
       "4          Amazon       True              5   \n",
       "...           ...        ...            ...   \n",
       "4995       Amazon       True              5   \n",
       "4996       Amazon       True              5   \n",
       "4997       Amazon       True              4   \n",
       "4998       Amazon       True              5   \n",
       "4999       Amazon       True              5   \n",
       "\n",
       "                                            review_text  review_length  \n",
       "0     i thought it would be as big as small paper bu...            211  \n",
       "1     this kindle is light and easy to use especiall...             63  \n",
       "2     didnt know how much i d use a kindle so went f...            107  \n",
       "3     i am 100 happy with my purchase  i caught it o...            757  \n",
       "4     solid entry level kindle  great for kids  gift...            176  \n",
       "...                                                 ...            ...  \n",
       "4995  this is a great tablet for the price  amazon i...             64  \n",
       "4996  this tablet is the perfect size and so easy to...            103  \n",
       "4997  purchased this for my son  has room to upgrade...            148  \n",
       "4998  i had some thoughts about getting this for a 5...            136  \n",
       "4999  this is a steal  have 8 gb model as well this ...             62  \n",
       "\n",
       "[5000 rows x 7 columns]"
      ]
     },
     "execution_count": 19,
     "metadata": {},
     "output_type": "execute_result"
    }
   ],
   "source": [
    "# Remove Special characters from the review_text.\n",
    "review_df[\"review_text\"]=review_df[\"review_text\"].str.replace('[^\\w\\s]',' ')\n",
    "review_df"
   ]
  },
  {
   "cell_type": "markdown",
   "metadata": {},
   "source": [
    "#### Import required libraries for feature extraction. "
   ]
  },
  {
   "cell_type": "code",
   "execution_count": 20,
   "metadata": {},
   "outputs": [],
   "source": [
    "#tokenize text with Tfidf\n",
    "from nltk.corpus import stopwords\n",
    "from nltk.stem.porter import PorterStemmer\n",
    "from sklearn.feature_extraction.text import CountVectorizer\n",
    "# nltk.download('averaged_perceptron_tagger')\n",
    "from nltk import pos_tag\n",
    "from nltk import word_tokenize\n",
    "from sklearn.preprocessing import MultiLabelBinarizer\n",
    "from sklearn.feature_extraction.text import TfidfVectorizer"
   ]
  },
  {
   "cell_type": "markdown",
   "metadata": {},
   "source": [
    "#### Remove stop words."
   ]
  },
  {
   "cell_type": "code",
   "execution_count": 21,
   "metadata": {},
   "outputs": [
    {
     "data": {
      "text/html": [
       "<div>\n",
       "<style scoped>\n",
       "    .dataframe tbody tr th:only-of-type {\n",
       "        vertical-align: middle;\n",
       "    }\n",
       "\n",
       "    .dataframe tbody tr th {\n",
       "        vertical-align: top;\n",
       "    }\n",
       "\n",
       "    .dataframe thead th {\n",
       "        text-align: right;\n",
       "    }\n",
       "</style>\n",
       "<table border=\"1\" class=\"dataframe\">\n",
       "  <thead>\n",
       "    <tr style=\"text-align: right;\">\n",
       "      <th></th>\n",
       "      <th>product_name</th>\n",
       "      <th>product_category</th>\n",
       "      <th>manufacturer</th>\n",
       "      <th>recommend</th>\n",
       "      <th>review_rating</th>\n",
       "      <th>review_text</th>\n",
       "      <th>review_length</th>\n",
       "    </tr>\n",
       "  </thead>\n",
       "  <tbody>\n",
       "    <tr>\n",
       "      <th>0</th>\n",
       "      <td>Amazon Kindle E-Reader 6\" Wifi (8th Generation...</td>\n",
       "      <td>Electronics</td>\n",
       "      <td>Amazon</td>\n",
       "      <td>False</td>\n",
       "      <td>3</td>\n",
       "      <td>[thought, would, big, small, paper, turn, like...</td>\n",
       "      <td>211</td>\n",
       "    </tr>\n",
       "    <tr>\n",
       "      <th>1</th>\n",
       "      <td>Amazon Kindle E-Reader 6\" Wifi (8th Generation...</td>\n",
       "      <td>Electronics</td>\n",
       "      <td>Amazon</td>\n",
       "      <td>True</td>\n",
       "      <td>5</td>\n",
       "      <td>[kindle, light, easy, use, especially, beach]</td>\n",
       "      <td>63</td>\n",
       "    </tr>\n",
       "    <tr>\n",
       "      <th>2</th>\n",
       "      <td>Amazon Kindle E-Reader 6\" Wifi (8th Generation...</td>\n",
       "      <td>Electronics</td>\n",
       "      <td>Amazon</td>\n",
       "      <td>True</td>\n",
       "      <td>4</td>\n",
       "      <td>[didnt, know, much, use, kindle, went, lower, ...</td>\n",
       "      <td>107</td>\n",
       "    </tr>\n",
       "    <tr>\n",
       "      <th>3</th>\n",
       "      <td>Amazon Kindle E-Reader 6\" Wifi (8th Generation...</td>\n",
       "      <td>Electronics</td>\n",
       "      <td>Amazon</td>\n",
       "      <td>True</td>\n",
       "      <td>5</td>\n",
       "      <td>[100, happy, purchase, caught, sale, really, g...</td>\n",
       "      <td>757</td>\n",
       "    </tr>\n",
       "    <tr>\n",
       "      <th>4</th>\n",
       "      <td>Amazon Kindle E-Reader 6\" Wifi (8th Generation...</td>\n",
       "      <td>Electronics</td>\n",
       "      <td>Amazon</td>\n",
       "      <td>True</td>\n",
       "      <td>5</td>\n",
       "      <td>[solid, entry, level, kindle, great, kids, gif...</td>\n",
       "      <td>176</td>\n",
       "    </tr>\n",
       "  </tbody>\n",
       "</table>\n",
       "</div>"
      ],
      "text/plain": [
       "                                        product_name product_category  \\\n",
       "0  Amazon Kindle E-Reader 6\" Wifi (8th Generation...      Electronics   \n",
       "1  Amazon Kindle E-Reader 6\" Wifi (8th Generation...      Electronics   \n",
       "2  Amazon Kindle E-Reader 6\" Wifi (8th Generation...      Electronics   \n",
       "3  Amazon Kindle E-Reader 6\" Wifi (8th Generation...      Electronics   \n",
       "4  Amazon Kindle E-Reader 6\" Wifi (8th Generation...      Electronics   \n",
       "\n",
       "  manufacturer  recommend  review_rating  \\\n",
       "0       Amazon      False              3   \n",
       "1       Amazon       True              5   \n",
       "2       Amazon       True              4   \n",
       "3       Amazon       True              5   \n",
       "4       Amazon       True              5   \n",
       "\n",
       "                                         review_text  review_length  \n",
       "0  [thought, would, big, small, paper, turn, like...            211  \n",
       "1      [kindle, light, easy, use, especially, beach]             63  \n",
       "2  [didnt, know, much, use, kindle, went, lower, ...            107  \n",
       "3  [100, happy, purchase, caught, sale, really, g...            757  \n",
       "4  [solid, entry, level, kindle, great, kids, gif...            176  "
      ]
     },
     "execution_count": 21,
     "metadata": {},
     "output_type": "execute_result"
    }
   ],
   "source": [
    "stop = stopwords.words('english')\n",
    "# Remove stop words\n",
    "review_df[\"review_text\"] = review_df[\"review_text\"].apply(lambda x: [item for item in x.split() if item not in stop])\n",
    "review_df.head()"
   ]
  },
  {
   "cell_type": "markdown",
   "metadata": {},
   "source": [
    "#### Apply porter stemmer"
   ]
  },
  {
   "cell_type": "code",
   "execution_count": 22,
   "metadata": {},
   "outputs": [
    {
     "data": {
      "text/html": [
       "<div>\n",
       "<style scoped>\n",
       "    .dataframe tbody tr th:only-of-type {\n",
       "        vertical-align: middle;\n",
       "    }\n",
       "\n",
       "    .dataframe tbody tr th {\n",
       "        vertical-align: top;\n",
       "    }\n",
       "\n",
       "    .dataframe thead th {\n",
       "        text-align: right;\n",
       "    }\n",
       "</style>\n",
       "<table border=\"1\" class=\"dataframe\">\n",
       "  <thead>\n",
       "    <tr style=\"text-align: right;\">\n",
       "      <th></th>\n",
       "      <th>product_name</th>\n",
       "      <th>product_category</th>\n",
       "      <th>manufacturer</th>\n",
       "      <th>recommend</th>\n",
       "      <th>review_rating</th>\n",
       "      <th>review_text</th>\n",
       "      <th>review_length</th>\n",
       "    </tr>\n",
       "  </thead>\n",
       "  <tbody>\n",
       "    <tr>\n",
       "      <th>0</th>\n",
       "      <td>Amazon Kindle E-Reader 6\" Wifi (8th Generation...</td>\n",
       "      <td>Electronics</td>\n",
       "      <td>Amazon</td>\n",
       "      <td>False</td>\n",
       "      <td>3</td>\n",
       "      <td>[thought, would, big, small, paper, turn, like...</td>\n",
       "      <td>211</td>\n",
       "    </tr>\n",
       "    <tr>\n",
       "      <th>1</th>\n",
       "      <td>Amazon Kindle E-Reader 6\" Wifi (8th Generation...</td>\n",
       "      <td>Electronics</td>\n",
       "      <td>Amazon</td>\n",
       "      <td>True</td>\n",
       "      <td>5</td>\n",
       "      <td>[kindl, light, easi, use, especi, beach]</td>\n",
       "      <td>63</td>\n",
       "    </tr>\n",
       "    <tr>\n",
       "      <th>2</th>\n",
       "      <td>Amazon Kindle E-Reader 6\" Wifi (8th Generation...</td>\n",
       "      <td>Electronics</td>\n",
       "      <td>Amazon</td>\n",
       "      <td>True</td>\n",
       "      <td>4</td>\n",
       "      <td>[didnt, know, much, use, kindl, went, lower, e...</td>\n",
       "      <td>107</td>\n",
       "    </tr>\n",
       "    <tr>\n",
       "      <th>3</th>\n",
       "      <td>Amazon Kindle E-Reader 6\" Wifi (8th Generation...</td>\n",
       "      <td>Electronics</td>\n",
       "      <td>Amazon</td>\n",
       "      <td>True</td>\n",
       "      <td>5</td>\n",
       "      <td>[100, happi, purchas, caught, sale, realli, go...</td>\n",
       "      <td>757</td>\n",
       "    </tr>\n",
       "    <tr>\n",
       "      <th>4</th>\n",
       "      <td>Amazon Kindle E-Reader 6\" Wifi (8th Generation...</td>\n",
       "      <td>Electronics</td>\n",
       "      <td>Amazon</td>\n",
       "      <td>True</td>\n",
       "      <td>5</td>\n",
       "      <td>[solid, entri, level, kindl, great, kid, gift,...</td>\n",
       "      <td>176</td>\n",
       "    </tr>\n",
       "  </tbody>\n",
       "</table>\n",
       "</div>"
      ],
      "text/plain": [
       "                                        product_name product_category  \\\n",
       "0  Amazon Kindle E-Reader 6\" Wifi (8th Generation...      Electronics   \n",
       "1  Amazon Kindle E-Reader 6\" Wifi (8th Generation...      Electronics   \n",
       "2  Amazon Kindle E-Reader 6\" Wifi (8th Generation...      Electronics   \n",
       "3  Amazon Kindle E-Reader 6\" Wifi (8th Generation...      Electronics   \n",
       "4  Amazon Kindle E-Reader 6\" Wifi (8th Generation...      Electronics   \n",
       "\n",
       "  manufacturer  recommend  review_rating  \\\n",
       "0       Amazon      False              3   \n",
       "1       Amazon       True              5   \n",
       "2       Amazon       True              4   \n",
       "3       Amazon       True              5   \n",
       "4       Amazon       True              5   \n",
       "\n",
       "                                         review_text  review_length  \n",
       "0  [thought, would, big, small, paper, turn, like...            211  \n",
       "1           [kindl, light, easi, use, especi, beach]             63  \n",
       "2  [didnt, know, much, use, kindl, went, lower, e...            107  \n",
       "3  [100, happi, purchas, caught, sale, realli, go...            757  \n",
       "4  [solid, entri, level, kindl, great, kid, gift,...            176  "
      ]
     },
     "execution_count": 22,
     "metadata": {},
     "output_type": "execute_result"
    }
   ],
   "source": [
    "#Apply a stemmer\n",
    "stemmer = PorterStemmer()\n",
    "review_df[\"review_text\"] = review_df[\"review_text\"].apply(lambda x: [stemmer.stem(y) for y in x])\n",
    "review_df.head()"
   ]
  },
  {
   "cell_type": "markdown",
   "metadata": {},
   "source": [
    "#### Join the text after stemming"
   ]
  },
  {
   "cell_type": "code",
   "execution_count": 23,
   "metadata": {},
   "outputs": [],
   "source": [
    "review_df[\"review_text\"]=review_df[\"review_text\"].apply(lambda x: \" \".join(y for y in x))"
   ]
  },
  {
   "cell_type": "code",
   "execution_count": 24,
   "metadata": {},
   "outputs": [
    {
     "data": {
      "text/html": [
       "<div>\n",
       "<style scoped>\n",
       "    .dataframe tbody tr th:only-of-type {\n",
       "        vertical-align: middle;\n",
       "    }\n",
       "\n",
       "    .dataframe tbody tr th {\n",
       "        vertical-align: top;\n",
       "    }\n",
       "\n",
       "    .dataframe thead th {\n",
       "        text-align: right;\n",
       "    }\n",
       "</style>\n",
       "<table border=\"1\" class=\"dataframe\">\n",
       "  <thead>\n",
       "    <tr style=\"text-align: right;\">\n",
       "      <th></th>\n",
       "      <th>product_name</th>\n",
       "      <th>product_category</th>\n",
       "      <th>manufacturer</th>\n",
       "      <th>recommend</th>\n",
       "      <th>review_rating</th>\n",
       "      <th>review_text</th>\n",
       "      <th>review_length</th>\n",
       "    </tr>\n",
       "  </thead>\n",
       "  <tbody>\n",
       "    <tr>\n",
       "      <th>0</th>\n",
       "      <td>Amazon Kindle E-Reader 6\" Wifi (8th Generation...</td>\n",
       "      <td>Electronics</td>\n",
       "      <td>Amazon</td>\n",
       "      <td>False</td>\n",
       "      <td>3</td>\n",
       "      <td>thought would big small paper turn like palm t...</td>\n",
       "      <td>211</td>\n",
       "    </tr>\n",
       "    <tr>\n",
       "      <th>1</th>\n",
       "      <td>Amazon Kindle E-Reader 6\" Wifi (8th Generation...</td>\n",
       "      <td>Electronics</td>\n",
       "      <td>Amazon</td>\n",
       "      <td>True</td>\n",
       "      <td>5</td>\n",
       "      <td>kindl light easi use especi beach</td>\n",
       "      <td>63</td>\n",
       "    </tr>\n",
       "    <tr>\n",
       "      <th>2</th>\n",
       "      <td>Amazon Kindle E-Reader 6\" Wifi (8th Generation...</td>\n",
       "      <td>Electronics</td>\n",
       "      <td>Amazon</td>\n",
       "      <td>True</td>\n",
       "      <td>4</td>\n",
       "      <td>didnt know much use kindl went lower end im ha...</td>\n",
       "      <td>107</td>\n",
       "    </tr>\n",
       "    <tr>\n",
       "      <th>3</th>\n",
       "      <td>Amazon Kindle E-Reader 6\" Wifi (8th Generation...</td>\n",
       "      <td>Electronics</td>\n",
       "      <td>Amazon</td>\n",
       "      <td>True</td>\n",
       "      <td>5</td>\n",
       "      <td>100 happi purchas caught sale realli good pric...</td>\n",
       "      <td>757</td>\n",
       "    </tr>\n",
       "    <tr>\n",
       "      <th>4</th>\n",
       "      <td>Amazon Kindle E-Reader 6\" Wifi (8th Generation...</td>\n",
       "      <td>Electronics</td>\n",
       "      <td>Amazon</td>\n",
       "      <td>True</td>\n",
       "      <td>5</td>\n",
       "      <td>solid entri level kindl great kid gift kid fri...</td>\n",
       "      <td>176</td>\n",
       "    </tr>\n",
       "  </tbody>\n",
       "</table>\n",
       "</div>"
      ],
      "text/plain": [
       "                                        product_name product_category  \\\n",
       "0  Amazon Kindle E-Reader 6\" Wifi (8th Generation...      Electronics   \n",
       "1  Amazon Kindle E-Reader 6\" Wifi (8th Generation...      Electronics   \n",
       "2  Amazon Kindle E-Reader 6\" Wifi (8th Generation...      Electronics   \n",
       "3  Amazon Kindle E-Reader 6\" Wifi (8th Generation...      Electronics   \n",
       "4  Amazon Kindle E-Reader 6\" Wifi (8th Generation...      Electronics   \n",
       "\n",
       "  manufacturer  recommend  review_rating  \\\n",
       "0       Amazon      False              3   \n",
       "1       Amazon       True              5   \n",
       "2       Amazon       True              4   \n",
       "3       Amazon       True              5   \n",
       "4       Amazon       True              5   \n",
       "\n",
       "                                         review_text  review_length  \n",
       "0  thought would big small paper turn like palm t...            211  \n",
       "1                  kindl light easi use especi beach             63  \n",
       "2  didnt know much use kindl went lower end im ha...            107  \n",
       "3  100 happi purchas caught sale realli good pric...            757  \n",
       "4  solid entri level kindl great kid gift kid fri...            176  "
      ]
     },
     "execution_count": 24,
     "metadata": {},
     "output_type": "execute_result"
    }
   ],
   "source": [
    "review_df.head()"
   ]
  },
  {
   "cell_type": "markdown",
   "metadata": {},
   "source": [
    "#### Split data in training and testing set."
   ]
  },
  {
   "cell_type": "code",
   "execution_count": 25,
   "metadata": {},
   "outputs": [
    {
     "name": "stderr",
     "output_type": "stream",
     "text": [
      "C:\\Users\\bhush\\anaconda3\\lib\\site-packages\\ipykernel_launcher.py:4: SettingWithCopyWarning: \n",
      "A value is trying to be set on a copy of a slice from a DataFrame.\n",
      "Try using .loc[row_indexer,col_indexer] = value instead\n",
      "\n",
      "See the caveats in the documentation: https://pandas.pydata.org/pandas-docs/stable/user_guide/indexing.html#returning-a-view-versus-a-copy\n",
      "  after removing the cwd from sys.path.\n"
     ]
    }
   ],
   "source": [
    "from sklearn.model_selection import train_test_split\n",
    "\n",
    "selected_data = review_df[(review_df[\"review_rating\"] == 4) | (review_df[\"review_rating\"] == 5)]\n",
    "selected_data['review_rating'] = selected_data['review_rating'].replace([4,5],['rate4','rate5'])\n",
    "X = selected_data[\"review_text\"]\n",
    "y = selected_data[\"review_rating\"]"
   ]
  },
  {
   "cell_type": "code",
   "execution_count": 26,
   "metadata": {},
   "outputs": [],
   "source": [
    "X_train, X_test, y_train, y_test = train_test_split(X,y,test_size=0.3)"
   ]
  },
  {
   "cell_type": "markdown",
   "metadata": {},
   "source": [
    "### 7.3.2 - Feature extraction"
   ]
  },
  {
   "cell_type": "markdown",
   "metadata": {},
   "source": [
    "#### Generate feature matrix using TF-IDF vectorizer. "
   ]
  },
  {
   "cell_type": "code",
   "execution_count": 27,
   "metadata": {},
   "outputs": [],
   "source": [
    "tfidf = TfidfVectorizer()\n",
    "X_train = tfidf.fit_transform(X_train)"
   ]
  },
  {
   "cell_type": "code",
   "execution_count": 28,
   "metadata": {},
   "outputs": [
    {
     "data": {
      "text/plain": [
       "array([[0., 0., 0., ..., 0., 0., 0.]])"
      ]
     },
     "execution_count": 28,
     "metadata": {},
     "output_type": "execute_result"
    }
   ],
   "source": [
    "X_train[0].toarray()"
   ]
  },
  {
   "cell_type": "code",
   "execution_count": 29,
   "metadata": {},
   "outputs": [
    {
     "name": "stdout",
     "output_type": "stream",
     "text": [
      "{'purchas': 2145, 'amazon': 201, 'fire': 1083, 'kid': 1541, 'edit': 902, 'tablet': 2684, '16gb': 23, '75': 86, 'year': 3079, 'old': 1883, 'mother': 1780, 'broke': 443, 'drop': 868, 'took': 2795, 'hour': 1370, 'get': 1181, 'use': 2915, 'cannot': 487, 'separ': 2387, 'away': 296}\n"
     ]
    }
   ],
   "source": [
    "# Lets check the vocabulary.\n",
    "import itertools \n",
    "tfidf_vocab = tfidf.vocabulary_\n",
    "print(dict(itertools.islice(tfidf_vocab.items(), 20)))"
   ]
  },
  {
   "cell_type": "markdown",
   "metadata": {},
   "source": [
    "#### Lets convert test/validation data to feature matrix"
   ]
  },
  {
   "cell_type": "code",
   "execution_count": 30,
   "metadata": {},
   "outputs": [],
   "source": [
    "X_test_tfidf = tfidf.transform(X_test)"
   ]
  },
  {
   "cell_type": "code",
   "execution_count": 31,
   "metadata": {},
   "outputs": [
    {
     "data": {
      "text/plain": [
       "array([[0., 0., 0., ..., 0., 0., 0.]])"
      ]
     },
     "execution_count": 31,
     "metadata": {},
     "output_type": "execute_result"
    }
   ],
   "source": [
    "X_test_tfidf[0].toarray()"
   ]
  },
  {
   "cell_type": "markdown",
   "metadata": {},
   "source": [
    "#### Generate bag-of-words using count-vectorizer. "
   ]
  },
  {
   "cell_type": "markdown",
   "metadata": {},
   "source": [
    "Generated two feature matrix to compare difference between performance with two different feature types.  "
   ]
  },
  {
   "cell_type": "code",
   "execution_count": 32,
   "metadata": {},
   "outputs": [],
   "source": [
    "bag_of_words = CountVectorizer()\n",
    "X_train_bow = bag_of_words.fit_transform(X)"
   ]
  },
  {
   "cell_type": "code",
   "execution_count": 33,
   "metadata": {},
   "outputs": [
    {
     "data": {
      "text/plain": [
       "array([[0, 0, 0, ..., 0, 0, 0]], dtype=int64)"
      ]
     },
     "execution_count": 33,
     "metadata": {},
     "output_type": "execute_result"
    }
   ],
   "source": [
    "X_train_bow[0].toarray()"
   ]
  },
  {
   "cell_type": "code",
   "execution_count": 34,
   "metadata": {},
   "outputs": [
    {
     "name": "stdout",
     "output_type": "stream",
     "text": [
      "{'kindl': 1745, 'light': 1818, 'easi': 1011, 'use': 3285, 'especi': 1094, 'beach': 389, 'didnt': 899, 'know': 1758, 'much': 2015, 'went': 3392, 'lower': 1877, 'end': 1067, 'im': 1585, 'happi': 1459, 'even': 1102, 'littl': 1844, 'dark': 820, '100': 2, 'purchas': 2412, 'caught': 577}\n"
     ]
    }
   ],
   "source": [
    "# Lets check the vocabulary.\n",
    "import itertools \n",
    "bag_of_words_vocab = bag_of_words.vocabulary_\n",
    "print(dict(itertools.islice(bag_of_words_vocab.items(), 20)))"
   ]
  },
  {
   "cell_type": "markdown",
   "metadata": {},
   "source": [
    "### 8.3.2 - Model Evaluation"
   ]
  },
  {
   "cell_type": "markdown",
   "metadata": {},
   "source": [
    "#### Using TF-IDF data for Model Evaluation. "
   ]
  },
  {
   "cell_type": "code",
   "execution_count": 35,
   "metadata": {},
   "outputs": [
    {
     "name": "stderr",
     "output_type": "stream",
     "text": [
      "C:\\Users\\bhush\\anaconda3\\lib\\site-packages\\sklearn\\utils\\deprecation.py:144: FutureWarning: The sklearn.metrics.classification module is  deprecated in version 0.22 and will be removed in version 0.24. The corresponding classes / functions should instead be imported from sklearn.metrics. Anything that cannot be imported from sklearn.metrics is now part of the private API.\n",
      "  warnings.warn(message, FutureWarning)\n"
     ]
    }
   ],
   "source": [
    "from sklearn.linear_model import LogisticRegression\n",
    "from yellowbrick.classifier import ConfusionMatrix\n",
    "from yellowbrick.classifier import ClassificationReport\n",
    "from yellowbrick.classifier import ROCAUC"
   ]
  },
  {
   "cell_type": "code",
   "execution_count": 36,
   "metadata": {},
   "outputs": [],
   "source": [
    "# Instantiate the classification model \n",
    "model = LogisticRegression()"
   ]
  },
  {
   "cell_type": "code",
   "execution_count": 37,
   "metadata": {},
   "outputs": [
    {
     "name": "stderr",
     "output_type": "stream",
     "text": [
      "C:\\Users\\bhush\\anaconda3\\lib\\site-packages\\sklearn\\base.py:197: FutureWarning: From version 0.24, get_params will raise an AttributeError if a parameter cannot be retrieved as an instance attribute. Previously it would return None.\n",
      "  FutureWarning)\n"
     ]
    },
    {
     "data": {
      "image/png": "[encoded data removed]",
      "text/plain": [
       "<Figure size 576x396 with 1 Axes>"
      ]
     },
     "metadata": {},
     "output_type": "display_data"
    },
    {
     "data": {
      "text/plain": [
       "<matplotlib.axes._subplots.AxesSubplot at 0x2b19a92ad48>"
      ]
     },
     "execution_count": 37,
     "metadata": {},
     "output_type": "execute_result"
    }
   ],
   "source": [
    "## The ConfusionMatrix visualizer taxes a model\n",
    "classes = ['rate4','rate5']\n",
    "cm = ConfusionMatrix(model, classes=classes, percent=False)\n",
    "#Fit fits the passed model. This is unnecessary if you pass the visualizer a pre-fitted model\n",
    "cm.fit(X_train, y_train)\n",
    "#To create the ConfusionMatrix, we need some test data. Score runs predict() on the data\n",
    "#and then creates the confusion_matrix from scikit learn.\n",
    "cm.score(X_test_tfidf, y_test)\n",
    "\n",
    "# change fontsize of the labels in the figure\n",
    "for label in cm.ax.texts:\n",
    "    label.set_size(20)\n",
    "\n",
    "#How did we do?\n",
    "cm.poof()"
   ]
  },
  {
   "cell_type": "code",
   "execution_count": 38,
   "metadata": {},
   "outputs": [
    {
     "name": "stderr",
     "output_type": "stream",
     "text": [
      "C:\\Users\\bhush\\anaconda3\\lib\\site-packages\\sklearn\\base.py:197: FutureWarning: From version 0.24, get_params will raise an AttributeError if a parameter cannot be retrieved as an instance attribute. Previously it would return None.\n",
      "  FutureWarning)\n"
     ]
    },
    {
     "data": {
      "image/png": "[encoded data removed]",
      "text/plain": [
       "<Figure size 1080x504 with 2 Axes>"
      ]
     },
     "metadata": {},
     "output_type": "display_data"
    },
    {
     "data": {
      "text/plain": [
       "<matplotlib.axes._subplots.AxesSubplot at 0x2b199448848>"
      ]
     },
     "execution_count": 38,
     "metadata": {},
     "output_type": "execute_result"
    }
   ],
   "source": [
    "# Precision, Recall, and F1 Score\n",
    "# set the size of the figure and the font size \n",
    "#%matplotlib inline\n",
    "plt.rcParams['figure.figsize'] = (15, 7)\n",
    "plt.rcParams['font.size'] = 20\n",
    "# Instantiate the visualizer\n",
    "visualizer = ClassificationReport(model, classes=classes)\n",
    "\n",
    "visualizer.fit(X_train, y_train)  # Fit the training data to the visualizer\n",
    "visualizer.score(X_test_tfidf, y_test)  # Evaluate the model on the test data\n",
    "visualizer.show()"
   ]
  },
  {
   "cell_type": "code",
   "execution_count": 39,
   "metadata": {
    "scrolled": true
   },
   "outputs": [
    {
     "name": "stderr",
     "output_type": "stream",
     "text": [
      "C:\\Users\\bhush\\anaconda3\\lib\\site-packages\\sklearn\\base.py:197: FutureWarning: From version 0.24, get_params will raise an AttributeError if a parameter cannot be retrieved as an instance attribute. Previously it would return None.\n",
      "  FutureWarning)\n"
     ]
    },
    {
     "data": {
      "image/png": "[encoded data removed]",
      "text/plain": [
       "<Figure size 1080x504 with 1 Axes>"
      ]
     },
     "metadata": {},
     "output_type": "display_data"
    },
    {
     "data": {
      "text/plain": [
       "<matplotlib.axes._subplots.AxesSubplot at 0x2b19a2a5188>"
      ]
     },
     "execution_count": 39,
     "metadata": {},
     "output_type": "execute_result"
    }
   ],
   "source": [
    "# ROC and AUC\n",
    "#Instantiate the visualizer\n",
    "visualizer = ROCAUC(model, classes=['rate4', 'rate5'])\n",
    "\n",
    "visualizer.fit(X_train, y_train)  # Fit the training data to the visualizer\n",
    "visualizer.score(X_test_tfidf, y_test)  # Evaluate the model on the test data\n",
    "visualizer.show()"
   ]
  },
  {
   "cell_type": "markdown",
   "metadata": {},
   "source": [
    "# Predict if product is recommended based on the review text using Logistic regression"
   ]
  },
  {
   "cell_type": "code",
   "execution_count": 40,
   "metadata": {},
   "outputs": [
    {
     "data": {
      "text/html": [
       "<div>\n",
       "<style scoped>\n",
       "    .dataframe tbody tr th:only-of-type {\n",
       "        vertical-align: middle;\n",
       "    }\n",
       "\n",
       "    .dataframe tbody tr th {\n",
       "        vertical-align: top;\n",
       "    }\n",
       "\n",
       "    .dataframe thead th {\n",
       "        text-align: right;\n",
       "    }\n",
       "</style>\n",
       "<table border=\"1\" class=\"dataframe\">\n",
       "  <thead>\n",
       "    <tr style=\"text-align: right;\">\n",
       "      <th></th>\n",
       "      <th>review_text</th>\n",
       "      <th>recommend</th>\n",
       "    </tr>\n",
       "  </thead>\n",
       "  <tbody>\n",
       "    <tr>\n",
       "      <th>0</th>\n",
       "      <td>thought would big small paper turn like palm t...</td>\n",
       "      <td>False</td>\n",
       "    </tr>\n",
       "    <tr>\n",
       "      <th>1</th>\n",
       "      <td>kindl light easi use especi beach</td>\n",
       "      <td>True</td>\n",
       "    </tr>\n",
       "    <tr>\n",
       "      <th>2</th>\n",
       "      <td>didnt know much use kindl went lower end im ha...</td>\n",
       "      <td>True</td>\n",
       "    </tr>\n",
       "    <tr>\n",
       "      <th>3</th>\n",
       "      <td>100 happi purchas caught sale realli good pric...</td>\n",
       "      <td>True</td>\n",
       "    </tr>\n",
       "    <tr>\n",
       "      <th>4</th>\n",
       "      <td>solid entri level kindl great kid gift kid fri...</td>\n",
       "      <td>True</td>\n",
       "    </tr>\n",
       "  </tbody>\n",
       "</table>\n",
       "</div>"
      ],
      "text/plain": [
       "                                         review_text  recommend\n",
       "0  thought would big small paper turn like palm t...      False\n",
       "1                  kindl light easi use especi beach       True\n",
       "2  didnt know much use kindl went lower end im ha...       True\n",
       "3  100 happi purchas caught sale realli good pric...       True\n",
       "4  solid entri level kindl great kid gift kid fri...       True"
      ]
     },
     "execution_count": 40,
     "metadata": {},
     "output_type": "execute_result"
    }
   ],
   "source": [
    "selected_data = review_df[[\"review_text\", \"recommend\"]]\n",
    "selected_data.head()"
   ]
  },
  {
   "cell_type": "code",
   "execution_count": 41,
   "metadata": {},
   "outputs": [
    {
     "name": "stderr",
     "output_type": "stream",
     "text": [
      "C:\\Users\\bhush\\anaconda3\\lib\\site-packages\\ipykernel_launcher.py:1: SettingWithCopyWarning: \n",
      "A value is trying to be set on a copy of a slice from a DataFrame.\n",
      "Try using .loc[row_indexer,col_indexer] = value instead\n",
      "\n",
      "See the caveats in the documentation: https://pandas.pydata.org/pandas-docs/stable/user_guide/indexing.html#returning-a-view-versus-a-copy\n",
      "  \"\"\"Entry point for launching an IPython kernel.\n"
     ]
    },
    {
     "data": {
      "text/html": [
       "<div>\n",
       "<style scoped>\n",
       "    .dataframe tbody tr th:only-of-type {\n",
       "        vertical-align: middle;\n",
       "    }\n",
       "\n",
       "    .dataframe tbody tr th {\n",
       "        vertical-align: top;\n",
       "    }\n",
       "\n",
       "    .dataframe thead th {\n",
       "        text-align: right;\n",
       "    }\n",
       "</style>\n",
       "<table border=\"1\" class=\"dataframe\">\n",
       "  <thead>\n",
       "    <tr style=\"text-align: right;\">\n",
       "      <th></th>\n",
       "      <th>review_text</th>\n",
       "      <th>recommend</th>\n",
       "    </tr>\n",
       "  </thead>\n",
       "  <tbody>\n",
       "    <tr>\n",
       "      <th>0</th>\n",
       "      <td>thought would big small paper turn like palm t...</td>\n",
       "      <td>False</td>\n",
       "    </tr>\n",
       "    <tr>\n",
       "      <th>1</th>\n",
       "      <td>kindl light easi use especi beach</td>\n",
       "      <td>True</td>\n",
       "    </tr>\n",
       "    <tr>\n",
       "      <th>2</th>\n",
       "      <td>didnt know much use kindl went lower end im ha...</td>\n",
       "      <td>True</td>\n",
       "    </tr>\n",
       "    <tr>\n",
       "      <th>3</th>\n",
       "      <td>100 happi purchas caught sale realli good pric...</td>\n",
       "      <td>True</td>\n",
       "    </tr>\n",
       "    <tr>\n",
       "      <th>4</th>\n",
       "      <td>solid entri level kindl great kid gift kid fri...</td>\n",
       "      <td>True</td>\n",
       "    </tr>\n",
       "  </tbody>\n",
       "</table>\n",
       "</div>"
      ],
      "text/plain": [
       "                                         review_text recommend\n",
       "0  thought would big small paper turn like palm t...     False\n",
       "1                  kindl light easi use especi beach      True\n",
       "2  didnt know much use kindl went lower end im ha...      True\n",
       "3  100 happi purchas caught sale realli good pric...      True\n",
       "4  solid entri level kindl great kid gift kid fri...      True"
      ]
     },
     "execution_count": 41,
     "metadata": {},
     "output_type": "execute_result"
    }
   ],
   "source": [
    "selected_data['recommend'] = selected_data['recommend'].replace([True, False],[\"True\",\"False\"])\n",
    "selected_data.head()"
   ]
  },
  {
   "cell_type": "code",
   "execution_count": 42,
   "metadata": {},
   "outputs": [
    {
     "data": {
      "text/plain": [
       "True     4765\n",
       "False     235\n",
       "Name: recommend, dtype: int64"
      ]
     },
     "execution_count": 42,
     "metadata": {},
     "output_type": "execute_result"
    }
   ],
   "source": [
    "selected_data['recommend'].value_counts()"
   ]
  },
  {
   "cell_type": "code",
   "execution_count": 43,
   "metadata": {},
   "outputs": [],
   "source": [
    "X = selected_data[\"review_text\"]\n",
    "y = selected_data[\"recommend\"]"
   ]
  },
  {
   "cell_type": "code",
   "execution_count": 44,
   "metadata": {},
   "outputs": [],
   "source": [
    "from sklearn.model_selection import train_test_split\n",
    "X_train, X_test, y_train, y_test = train_test_split(X,y,test_size=0.3)"
   ]
  },
  {
   "cell_type": "code",
   "execution_count": 45,
   "metadata": {},
   "outputs": [],
   "source": [
    "tfidf = TfidfVectorizer()\n",
    "X_train = tfidf.fit_transform(X_train)"
   ]
  },
  {
   "cell_type": "code",
   "execution_count": 46,
   "metadata": {},
   "outputs": [],
   "source": [
    "# X_train['review_rating'] = X_train['review_rating'].replace([1,2,3,4,5],[\"1\",\"2\",\"3\",\"4\",\"5\"])"
   ]
  },
  {
   "cell_type": "code",
   "execution_count": 47,
   "metadata": {},
   "outputs": [],
   "source": [
    "X_test = tfidf.transform(X_test)"
   ]
  },
  {
   "cell_type": "code",
   "execution_count": 48,
   "metadata": {},
   "outputs": [
    {
     "data": {
      "text/plain": [
       "True     1436\n",
       "False      64\n",
       "Name: recommend, dtype: int64"
      ]
     },
     "execution_count": 48,
     "metadata": {},
     "output_type": "execute_result"
    }
   ],
   "source": [
    "y_test.value_counts()"
   ]
  },
  {
   "cell_type": "code",
   "execution_count": 49,
   "metadata": {},
   "outputs": [],
   "source": [
    "# Instantiate the classification model \n",
    "model = LogisticRegression()"
   ]
  },
  {
   "cell_type": "code",
   "execution_count": 82,
   "metadata": {},
   "outputs": [
    {
     "name": "stderr",
     "output_type": "stream",
     "text": [
      "C:\\Users\\bhush\\anaconda3\\lib\\site-packages\\sklearn\\base.py:197: FutureWarning: From version 0.24, get_params will raise an AttributeError if a parameter cannot be retrieved as an instance attribute. Previously it would return None.\n",
      "  FutureWarning)\n"
     ]
    },
    {
     "data": {
      "image/png": "[encoded data removed]",
      "text/plain": [
       "<Figure size 1080x504 with 1 Axes>"
      ]
     },
     "metadata": {},
     "output_type": "display_data"
    },
    {
     "data": {
      "text/plain": [
       "<matplotlib.axes._subplots.AxesSubplot at 0x2b19a568988>"
      ]
     },
     "execution_count": 82,
     "metadata": {},
     "output_type": "execute_result"
    }
   ],
   "source": [
    "## The ConfusionMatrix visualizer taxes a model\n",
    "classes = ['False','True']\n",
    "cm = ConfusionMatrix(model, classes=classes)\n",
    "#Fit fits the passed model. This is unnecessary if you pass the visualizer a pre-fitted model\n",
    "cm.fit(X_train, y_train)\n",
    "#To create the ConfusionMatrix, we need some test data. Score runs predict() on the data\n",
    "#and then creates the confusion_matrix from scikit learn.\n",
    "cm.score(X_test, y_test)\n",
    "\n",
    "# change fontsize of the labels in the figure\n",
    "for label in cm.ax.texts:\n",
    "    label.set_size(20)\n",
    "\n",
    "#How did we do?\n",
    "cm.poof()"
   ]
  },
  {
   "cell_type": "code",
   "execution_count": 51,
   "metadata": {},
   "outputs": [
    {
     "name": "stderr",
     "output_type": "stream",
     "text": [
      "C:\\Users\\bhush\\anaconda3\\lib\\site-packages\\sklearn\\base.py:197: FutureWarning: From version 0.24, get_params will raise an AttributeError if a parameter cannot be retrieved as an instance attribute. Previously it would return None.\n",
      "  FutureWarning)\n",
      "C:\\Users\\bhush\\anaconda3\\lib\\site-packages\\sklearn\\metrics\\_classification.py:1272: UndefinedMetricWarning: Precision and F-score are ill-defined and being set to 0.0 in labels with no predicted samples. Use `zero_division` parameter to control this behavior.\n",
      "  _warn_prf(average, modifier, msg_start, len(result))\n"
     ]
    },
    {
     "data": {
      "image/png": "[encoded data removed]",
      "text/plain": [
       "<Figure size 1080x504 with 2 Axes>"
      ]
     },
     "metadata": {},
     "output_type": "display_data"
    },
    {
     "data": {
      "text/plain": [
       "<matplotlib.axes._subplots.AxesSubplot at 0x2b19a1f15c8>"
      ]
     },
     "execution_count": 51,
     "metadata": {},
     "output_type": "execute_result"
    }
   ],
   "source": [
    "# Precision, Recall, and F1 Score\n",
    "# set the size of the figure and the font size \n",
    "#%matplotlib inline\n",
    "plt.rcParams['figure.figsize'] = (15, 7)\n",
    "plt.rcParams['font.size'] = 20\n",
    "# Instantiate the visualizer\n",
    "visualizer = ClassificationReport(model, classes=classes)\n",
    "\n",
    "visualizer.fit(X_train, y_train)  # Fit the training data to the visualizer\n",
    "visualizer.score(X_test, y_test)  # Evaluate the model on the test data\n",
    "visualizer.show()"
   ]
  },
  {
   "cell_type": "code",
   "execution_count": 64,
   "metadata": {},
   "outputs": [
    {
     "data": {
      "text/plain": [
       "True     1436\n",
       "False      64\n",
       "Name: recommend, dtype: int64"
      ]
     },
     "execution_count": 64,
     "metadata": {},
     "output_type": "execute_result"
    }
   ],
   "source": [
    "y_test.value_counts()"
   ]
  },
  {
   "cell_type": "markdown",
   "metadata": {},
   "source": [
    "# Predict review rating based on review text using Multinomial naive Bayes."
   ]
  },
  {
   "cell_type": "markdown",
   "metadata": {},
   "source": [
    "In this attempt I am using all the rating (1 to 5).  "
   ]
  },
  {
   "cell_type": "code",
   "execution_count": 66,
   "metadata": {},
   "outputs": [
    {
     "data": {
      "text/plain": [
       "0       thought would big small paper turn like palm t...\n",
       "1                       kindl light easi use especi beach\n",
       "2       didnt know much use kindl went lower end im ha...\n",
       "3       100 happi purchas caught sale realli good pric...\n",
       "4       solid entri level kindl great kid gift kid fri...\n",
       "                              ...                        \n",
       "4995                   great tablet price amazon good job\n",
       "4996    tablet perfect size easi use read play game pu...\n",
       "4997    purchas son room upgrad memori allow book game...\n",
       "4998    thought get 5 year old get screen protector ca...\n",
       "4999                          steal 8 gb model well punch\n",
       "Name: review_text, Length: 5000, dtype: object"
      ]
     },
     "execution_count": 66,
     "metadata": {},
     "output_type": "execute_result"
    }
   ],
   "source": [
    "X_mnb = review_df[\"review_text\"]\n",
    "X_mnb"
   ]
  },
  {
   "cell_type": "code",
   "execution_count": 67,
   "metadata": {},
   "outputs": [
    {
     "data": {
      "text/plain": [
       "0       3\n",
       "1       5\n",
       "2       4\n",
       "3       5\n",
       "4       5\n",
       "       ..\n",
       "4995    5\n",
       "4996    5\n",
       "4997    4\n",
       "4998    5\n",
       "4999    5\n",
       "Name: review_rating, Length: 5000, dtype: int64"
      ]
     },
     "execution_count": 67,
     "metadata": {},
     "output_type": "execute_result"
    }
   ],
   "source": [
    "y_mnb = review_df[\"review_rating\"]\n",
    "y_mnb"
   ]
  },
  {
   "cell_type": "code",
   "execution_count": 68,
   "metadata": {},
   "outputs": [],
   "source": [
    "from sklearn.model_selection import train_test_split\n",
    "X_mnb_train, X_mnb_test, y_mnb_train, y_mnb_test = train_test_split(X_mnb,y_mnb,test_size=0.3)"
   ]
  },
  {
   "cell_type": "code",
   "execution_count": 69,
   "metadata": {},
   "outputs": [],
   "source": [
    "tfidf = TfidfVectorizer()\n",
    "X_mnb_train = tfidf.fit_transform(X_mnb_train)"
   ]
  },
  {
   "cell_type": "code",
   "execution_count": 70,
   "metadata": {},
   "outputs": [],
   "source": [
    "X_mnb_test = tfidf.transform(X_mnb_test)"
   ]
  },
  {
   "cell_type": "code",
   "execution_count": 71,
   "metadata": {},
   "outputs": [],
   "source": [
    "from sklearn.naive_bayes import MultinomialNB"
   ]
  },
  {
   "cell_type": "code",
   "execution_count": 72,
   "metadata": {},
   "outputs": [],
   "source": [
    "# Instantiate the linear regression model \n",
    "mnb_model = MultinomialNB()"
   ]
  },
  {
   "cell_type": "code",
   "execution_count": 73,
   "metadata": {},
   "outputs": [
    {
     "data": {
      "text/plain": [
       "MultinomialNB(alpha=1.0, class_prior=None, fit_prior=True)"
      ]
     },
     "execution_count": 73,
     "metadata": {},
     "output_type": "execute_result"
    }
   ],
   "source": [
    "mnb_model.fit(X_mnb_train, y_mnb_train)"
   ]
  },
  {
   "cell_type": "code",
   "execution_count": 75,
   "metadata": {},
   "outputs": [],
   "source": [
    "predictions = mnb_model.predict(X_mnb_test)"
   ]
  },
  {
   "cell_type": "code",
   "execution_count": 77,
   "metadata": {},
   "outputs": [
    {
     "name": "stdout",
     "output_type": "stream",
     "text": [
      "[[   0    0    0    4   12]\n",
      " [   0    0    0    1   13]\n",
      " [   0    0    0    1   67]\n",
      " [   0    0    0    9  339]\n",
      " [   0    0    0    4 1050]]\n"
     ]
    }
   ],
   "source": [
    "from sklearn.metrics import confusion_matrix, classification_report\n",
    "print(confusion_matrix(y_mnb_test, predictions))\n"
   ]
  },
  {
   "cell_type": "code",
   "execution_count": 78,
   "metadata": {},
   "outputs": [
    {
     "name": "stdout",
     "output_type": "stream",
     "text": [
      "              precision    recall  f1-score   support\n",
      "\n",
      "           1       0.00      0.00      0.00        16\n",
      "           2       0.00      0.00      0.00        14\n",
      "           3       0.00      0.00      0.00        68\n",
      "           4       0.47      0.03      0.05       348\n",
      "           5       0.71      1.00      0.83      1054\n",
      "\n",
      "    accuracy                           0.71      1500\n",
      "   macro avg       0.24      0.20      0.18      1500\n",
      "weighted avg       0.61      0.71      0.59      1500\n",
      "\n"
     ]
    }
   ],
   "source": [
    "print(classification_report(y_mnb_test, predictions))"
   ]
  },
  {
   "cell_type": "markdown",
   "metadata": {},
   "source": [
    "#  Predict if product is recommended based on the review text using  Multinomial Naive Bayes"
   ]
  },
  {
   "cell_type": "code",
   "execution_count": 88,
   "metadata": {},
   "outputs": [],
   "source": [
    "y_recom = review_df[\"recommend\"]"
   ]
  },
  {
   "cell_type": "code",
   "execution_count": 89,
   "metadata": {},
   "outputs": [],
   "source": [
    "X_recom_train, X_recom_test, y_recom_train, y_recom_test = train_test_split(X_mnb,y_recom,test_size=0.3)"
   ]
  },
  {
   "cell_type": "code",
   "execution_count": 90,
   "metadata": {},
   "outputs": [],
   "source": [
    "tfidf = TfidfVectorizer()\n",
    "X_recom_train = tfidf.fit_transform(X_recom_train)"
   ]
  },
  {
   "cell_type": "code",
   "execution_count": 91,
   "metadata": {},
   "outputs": [],
   "source": [
    "X_recom_test = tfidf.transform(X_recom_test)"
   ]
  },
  {
   "cell_type": "code",
   "execution_count": 92,
   "metadata": {},
   "outputs": [],
   "source": [
    "mnb_recom_model = MultinomialNB()"
   ]
  },
  {
   "cell_type": "code",
   "execution_count": 93,
   "metadata": {},
   "outputs": [
    {
     "data": {
      "text/plain": [
       "MultinomialNB(alpha=1.0, class_prior=None, fit_prior=True)"
      ]
     },
     "execution_count": 93,
     "metadata": {},
     "output_type": "execute_result"
    }
   ],
   "source": [
    "mnb_recom_model.fit(X_recom_train, y_recom_train)"
   ]
  },
  {
   "cell_type": "code",
   "execution_count": 94,
   "metadata": {},
   "outputs": [],
   "source": [
    "predictions = mnb_recom_model.predict(X_recom_test)"
   ]
  },
  {
   "cell_type": "code",
   "execution_count": 95,
   "metadata": {},
   "outputs": [
    {
     "name": "stdout",
     "output_type": "stream",
     "text": [
      "[[   0   72]\n",
      " [   0 1428]]\n"
     ]
    }
   ],
   "source": [
    "print(confusion_matrix(y_recom_test, predictions))"
   ]
  },
  {
   "cell_type": "code",
   "execution_count": 96,
   "metadata": {
    "scrolled": true
   },
   "outputs": [
    {
     "name": "stdout",
     "output_type": "stream",
     "text": [
      "              precision    recall  f1-score   support\n",
      "\n",
      "       False       0.00      0.00      0.00        72\n",
      "        True       0.95      1.00      0.98      1428\n",
      "\n",
      "    accuracy                           0.95      1500\n",
      "   macro avg       0.48      0.50      0.49      1500\n",
      "weighted avg       0.91      0.95      0.93      1500\n",
      "\n"
     ]
    },
    {
     "name": "stderr",
     "output_type": "stream",
     "text": [
      "C:\\Users\\bhush\\anaconda3\\lib\\site-packages\\sklearn\\metrics\\_classification.py:1272: UndefinedMetricWarning: Precision and F-score are ill-defined and being set to 0.0 in labels with no predicted samples. Use `zero_division` parameter to control this behavior.\n",
      "  _warn_prf(average, modifier, msg_start, len(result))\n"
     ]
    }
   ],
   "source": [
    "print(classification_report(y_recom_test, predictions))"
   ]
  },
  {
   "cell_type": "markdown",
   "metadata": {},
   "source": [
    "#  Predict if product is recommended based on the review text using Decision Tree"
   ]
  },
  {
   "cell_type": "code",
   "execution_count": 97,
   "metadata": {},
   "outputs": [],
   "source": [
    "from sklearn.tree import DecisionTreeClassifier\n",
    "decision_model = DecisionTreeClassifier()"
   ]
  },
  {
   "cell_type": "code",
   "execution_count": 104,
   "metadata": {},
   "outputs": [
    {
     "data": {
      "text/plain": [
       "DecisionTreeClassifier(ccp_alpha=0.0, class_weight=None, criterion='gini',\n",
       "                       max_depth=None, max_features=None, max_leaf_nodes=None,\n",
       "                       min_impurity_decrease=0.0, min_impurity_split=None,\n",
       "                       min_samples_leaf=1, min_samples_split=2,\n",
       "                       min_weight_fraction_leaf=0.0, presort='deprecated',\n",
       "                       random_state=None, splitter='best')"
      ]
     },
     "execution_count": 104,
     "metadata": {},
     "output_type": "execute_result"
    }
   ],
   "source": [
    "decision_model.fit(X_recom_train, y_recom_train)"
   ]
  },
  {
   "cell_type": "code",
   "execution_count": 106,
   "metadata": {},
   "outputs": [],
   "source": [
    "predictions = decision_model.predict(X_recom_test)"
   ]
  },
  {
   "cell_type": "code",
   "execution_count": 107,
   "metadata": {},
   "outputs": [
    {
     "name": "stdout",
     "output_type": "stream",
     "text": [
      "[[  27   45]\n",
      " [  25 1403]]\n"
     ]
    }
   ],
   "source": [
    "print(confusion_matrix(y_recom_test, predictions))"
   ]
  },
  {
   "cell_type": "code",
   "execution_count": 98,
   "metadata": {},
   "outputs": [
    {
     "name": "stderr",
     "output_type": "stream",
     "text": [
      "C:\\Users\\bhush\\anaconda3\\lib\\site-packages\\sklearn\\base.py:197: FutureWarning: From version 0.24, get_params will raise an AttributeError if a parameter cannot be retrieved as an instance attribute. Previously it would return None.\n",
      "  FutureWarning)\n"
     ]
    },
    {
     "data": {
      "image/png": "[encoded data removed]",
      "text/plain": [
       "<Figure size 1080x504 with 1 Axes>"
      ]
     },
     "metadata": {},
     "output_type": "display_data"
    },
    {
     "data": {
      "text/plain": [
       "<matplotlib.axes._subplots.AxesSubplot at 0x2b19df5c048>"
      ]
     },
     "execution_count": 98,
     "metadata": {},
     "output_type": "execute_result"
    }
   ],
   "source": [
    "## The ConfusionMatrix visualizer taxes a model\n",
    "classes = ['False','True']\n",
    "cm = ConfusionMatrix(decision_model, classes=classes)\n",
    "#Fit fits the passed model. This is unnecessary if you pass the visualizer a pre-fitted model\n",
    "cm.fit(X_recom_train, y_recom_train)\n",
    "#To create the ConfusionMatrix, we need some test data. Score runs predict() on the data\n",
    "#and then creates the confusion_matrix from scikit learn.\n",
    "cm.score(X_recom_test, y_recom_test)\n",
    "\n",
    "# change fontsize of the labels in the figure\n",
    "for label in cm.ax.texts:\n",
    "    label.set_size(20)\n",
    "\n",
    "#How did we do?\n",
    "cm.poof()"
   ]
  },
  {
   "cell_type": "code",
   "execution_count": 108,
   "metadata": {},
   "outputs": [
    {
     "name": "stdout",
     "output_type": "stream",
     "text": [
      "              precision    recall  f1-score   support\n",
      "\n",
      "       False       0.52      0.38      0.44        72\n",
      "        True       0.97      0.98      0.98      1428\n",
      "\n",
      "    accuracy                           0.95      1500\n",
      "   macro avg       0.74      0.68      0.71      1500\n",
      "weighted avg       0.95      0.95      0.95      1500\n",
      "\n"
     ]
    }
   ],
   "source": [
    "print(classification_report(y_recom_test, predictions))"
   ]
  },
  {
   "cell_type": "code",
   "execution_count": 99,
   "metadata": {},
   "outputs": [
    {
     "name": "stderr",
     "output_type": "stream",
     "text": [
      "C:\\Users\\bhush\\anaconda3\\lib\\site-packages\\sklearn\\base.py:197: FutureWarning: From version 0.24, get_params will raise an AttributeError if a parameter cannot be retrieved as an instance attribute. Previously it would return None.\n",
      "  FutureWarning)\n"
     ]
    },
    {
     "data": {
      "image/png": "[encoded data removed]",
      "text/plain": [
       "<Figure size 1080x504 with 2 Axes>"
      ]
     },
     "metadata": {},
     "output_type": "display_data"
    },
    {
     "data": {
      "text/plain": [
       "<matplotlib.axes._subplots.AxesSubplot at 0x2b19e716e08>"
      ]
     },
     "execution_count": 99,
     "metadata": {},
     "output_type": "execute_result"
    }
   ],
   "source": [
    "# Precision, Recall, and F1 Score\n",
    "# set the size of the figure and the font size \n",
    "#%matplotlib inline\n",
    "plt.rcParams['figure.figsize'] = (15, 7)\n",
    "plt.rcParams['font.size'] = 20\n",
    "# Instantiate the visualizer\n",
    "visualizer = ClassificationReport(decision_model, classes=classes)\n",
    "\n",
    "visualizer.fit(X_recom_train, y_recom_train)  # Fit the training data to the visualizer\n",
    "visualizer.score(X_recom_test, y_recom_test)  # Evaluate the model on the test data\n",
    "visualizer.show()"
   ]
  },
  {
   "cell_type": "code",
   "execution_count": 101,
   "metadata": {},
   "outputs": [
    {
     "data": {
      "text/plain": [
       "[Text(781.9118874448551, 378.19975609756096, 'X[2402] <= 0.098\\ngini = 0.089\\nsamples = 3500\\nvalue = [163, 3337]'),\n",
       " Text(745.9848575175868, 373.55926829268293, 'X[2874] <= 0.079\\ngini = 0.081\\nsamples = 3458\\nvalue = [147, 3311]'),\n",
       " Text(739.5978299749612, 368.91878048780484, 'X[2612] <= 0.162\\ngini = 0.079\\nsamples = 3453\\nvalue = [142, 3311]'),\n",
       " Text(715.6464766901156, 364.2782926829268, 'X[1094] <= 0.063\\ngini = 0.074\\nsamples = 3427\\nvalue = [131, 3296]'),\n",
       " Text(699.6789078335519, 359.63780487804877, 'X[335] <= 0.451\\ngini = 0.071\\nsamples = 3416\\nvalue = [125, 3291]'),\n",
       " Text(693.2918802909264, 354.99731707317073, 'X[864] <= 0.14\\ngini = 0.069\\nsamples = 3413\\nvalue = [122, 3291]'),\n",
       " Text(680.5178252056754, 350.35682926829264, 'X[1753] <= 0.137\\ngini = 0.064\\nsamples = 3384\\nvalue = [112, 3272]'),\n",
       " Text(674.13079766305, 345.7163414634146, 'X[2003] <= 0.309\\ngini = 0.062\\nsamples = 3381\\nvalue = [109, 3272]'),\n",
       " Text(667.7437701204244, 341.0758536585366, 'X[1249] <= 0.109\\ngini = 0.061\\nsamples = 3378\\nvalue = [106, 3272]'),\n",
       " Text(661.356742577799, 336.43536585365854, 'X[3077] <= 0.333\\ngini = 0.059\\nsamples = 3375\\nvalue = [103, 3272]'),\n",
       " Text(654.9697150351735, 331.79487804878045, 'X[848] <= 0.421\\ngini = 0.058\\nsamples = 3372\\nvalue = [100, 3272]'),\n",
       " Text(637.4053892929534, 327.1543902439024, 'X[2455] <= 0.336\\ngini = 0.056\\nsamples = 3368\\nvalue = [97, 3271]'),\n",
       " Text(621.4378204363896, 322.5139024390244, 'X[2805] <= 0.098\\ngini = 0.054\\nsamples = 3364\\nvalue = [94, 3270]'),\n",
       " Text(608.6637653511386, 317.87341463414634, 'X[1985] <= 0.496\\ngini = 0.051\\nsamples = 3348\\nvalue = [88, 3260]'),\n",
       " Text(602.2767378085132, 313.2329268292683, 'X[162] <= 0.425\\ngini = 0.05\\nsamples = 3346\\nvalue = [86, 3260]'),\n",
       " Text(595.8897102658877, 308.5924390243902, 'X[2860] <= 0.24\\ngini = 0.049\\nsamples = 3344\\nvalue = [84, 3260]'),\n",
       " Text(589.5026827232622, 303.9519512195122, 'X[619] <= 0.106\\ngini = 0.048\\nsamples = 3342\\nvalue = [82, 3260]'),\n",
       " Text(583.1156551806367, 299.3114634146341, 'X[607] <= 0.435\\ngini = 0.047\\nsamples = 3340\\nvalue = [80, 3260]'),\n",
       " Text(576.7286276380112, 294.67097560975606, 'X[533] <= 0.103\\ngini = 0.046\\nsamples = 3338\\nvalue = [78, 3260]'),\n",
       " Text(570.3416000953857, 290.030487804878, 'X[781] <= 0.276\\ngini = 0.045\\nsamples = 3336\\nvalue = [76, 3260]'),\n",
       " Text(563.9545725527603, 285.39, 'X[1709] <= 0.31\\ngini = 0.043\\nsamples = 3334\\nvalue = [74, 3260]'),\n",
       " Text(538.6060569929654, 280.74951219512195, 'X[2050] <= 0.361\\ngini = 0.041\\nsamples = 3321\\nvalue = [69, 3252]'),\n",
       " Text(519.8441635865029, 276.1090243902439, 'X[2513] <= 0.14\\ngini = 0.039\\nsamples = 3316\\nvalue = [66, 3250]'),\n",
       " Text(501.48145940145463, 271.4685365853658, 'X[2039] <= 0.255\\ngini = 0.037\\nsamples = 3306\\nvalue = [62, 3244]'),\n",
       " Text(483.91713365923454, 266.8280487804878, 'X[956] <= 0.547\\ngini = 0.036\\nsamples = 3303\\nvalue = [60, 3243]'),\n",
       " Text(467.9495648026708, 262.1875609756097, 'X[769] <= 0.28\\ngini = 0.035\\nsamples = 3300\\nvalue = [58, 3242]'),\n",
       " Text(455.1755097174198, 257.54707317073166, 'X[2958] <= 0.068\\ngini = 0.033\\nsamples = 3292\\nvalue = [55, 3237]'),\n",
       " Text(448.78848217479435, 252.90658536585363, 'X[2326] <= 0.285\\ngini = 0.032\\nsamples = 3291\\nvalue = [54, 3237]'),\n",
       " Text(442.40145463216885, 248.2660975609756, 'X[3147] <= 0.327\\ngini = 0.032\\nsamples = 3290\\nvalue = [53, 3237]'),\n",
       " Text(436.01442708954335, 243.62560975609753, 'X[2787] <= 0.394\\ngini = 0.031\\nsamples = 3289\\nvalue = [52, 3237]'),\n",
       " Text(429.62739954691784, 238.9851219512195, 'X[566] <= 0.56\\ngini = 0.031\\nsamples = 3288\\nvalue = [51, 3237]'),\n",
       " Text(423.24037200429234, 234.34463414634143, 'X[246] <= 0.499\\ngini = 0.03\\nsamples = 3287\\nvalue = [50, 3237]'),\n",
       " Text(416.8533444616669, 229.7041463414634, 'X[2449] <= 0.308\\ngini = 0.029\\nsamples = 3286\\nvalue = [49, 3237]'),\n",
       " Text(410.4663169190414, 225.06365853658534, 'X[2378] <= 0.193\\ngini = 0.029\\nsamples = 3285\\nvalue = [48, 3237]'),\n",
       " Text(404.0792893764159, 220.4231707317073, 'X[1806] <= 0.209\\ngini = 0.028\\nsamples = 3284\\nvalue = [47, 3237]'),\n",
       " Text(397.6922618337904, 215.78268292682924, 'X[3042] <= 0.402\\ngini = 0.028\\nsamples = 3283\\nvalue = [46, 3237]'),\n",
       " Text(391.3052342911649, 211.1421951219512, 'X[506] <= 0.089\\ngini = 0.027\\nsamples = 3282\\nvalue = [45, 3237]'),\n",
       " Text(384.91820674853943, 206.50170731707314, 'X[137] <= 0.535\\ngini = 0.026\\nsamples = 3281\\nvalue = [44, 3237]'),\n",
       " Text(378.53117920591393, 201.8612195121951, 'X[616] <= 0.231\\ngini = 0.026\\nsamples = 3280\\nvalue = [43, 3237]'),\n",
       " Text(372.1441516632884, 197.22073170731704, 'X[1826] <= 0.362\\ngini = 0.025\\nsamples = 3279\\nvalue = [42, 3237]'),\n",
       " Text(365.7571241206629, 192.580243902439, 'X[3062] <= 0.521\\ngini = 0.025\\nsamples = 3278\\nvalue = [41, 3237]'),\n",
       " Text(359.3700965780374, 187.93975609756095, 'X[15] <= 0.395\\ngini = 0.024\\nsamples = 3277\\nvalue = [40, 3237]'),\n",
       " Text(352.983069035412, 183.2992682926829, 'X[1434] <= 0.299\\ngini = 0.024\\nsamples = 3276\\nvalue = [39, 3237]'),\n",
       " Text(346.59604149278647, 178.65878048780485, 'X[341] <= 0.144\\ngini = 0.023\\nsamples = 3275\\nvalue = [38, 3237]'),\n",
       " Text(340.20901395016097, 174.0182926829268, 'X[646] <= 0.2\\ngini = 0.022\\nsamples = 3274\\nvalue = [37, 3237]'),\n",
       " Text(333.82198640753546, 169.37780487804875, 'X[2635] <= 0.567\\ngini = 0.022\\nsamples = 3273\\nvalue = [36, 3237]'),\n",
       " Text(327.43495886490996, 164.73731707317071, 'X[489] <= 0.565\\ngini = 0.021\\nsamples = 3272\\nvalue = [35, 3237]'),\n",
       " Text(321.0479313222845, 160.09682926829265, 'X[842] <= 0.26\\ngini = 0.021\\nsamples = 3271\\nvalue = [34, 3237]'),\n",
       " Text(314.660903779659, 155.45634146341462, 'X[2126] <= 0.322\\ngini = 0.02\\nsamples = 3270\\nvalue = [33, 3237]'),\n",
       " Text(308.2738762370335, 150.81585365853655, 'X[448] <= 0.284\\ngini = 0.019\\nsamples = 3269\\nvalue = [32, 3237]'),\n",
       " Text(301.886848694408, 146.17536585365852, 'X[74] <= 0.526\\ngini = 0.019\\nsamples = 3268\\nvalue = [31, 3237]'),\n",
       " Text(295.4998211517825, 141.53487804878046, 'X[2159] <= 0.389\\ngini = 0.018\\nsamples = 3267\\nvalue = [30, 3237]'),\n",
       " Text(289.11279360915705, 136.89439024390242, 'X[2306] <= 0.123\\ngini = 0.018\\nsamples = 3266\\nvalue = [29, 3237]'),\n",
       " Text(282.72576606653155, 132.25390243902436, 'X[2763] <= 0.495\\ngini = 0.017\\nsamples = 3265\\nvalue = [28, 3237]'),\n",
       " Text(276.33873852390604, 127.61341463414632, 'X[3043] <= 0.252\\ngini = 0.016\\nsamples = 3264\\nvalue = [27, 3237]'),\n",
       " Text(269.95171098128054, 122.97292682926826, 'X[33] <= 0.393\\ngini = 0.016\\nsamples = 3263\\nvalue = [26, 3237]'),\n",
       " Text(263.56468343865504, 118.33243902439023, 'X[363] <= 0.19\\ngini = 0.015\\nsamples = 3262\\nvalue = [25, 3237]'),\n",
       " Text(257.1776558960296, 113.69195121951219, 'X[1810] <= 0.21\\ngini = 0.015\\nsamples = 3261\\nvalue = [24, 3237]'),\n",
       " Text(250.7906283534041, 109.0514634146341, 'X[2013] <= 0.49\\ngini = 0.014\\nsamples = 3260\\nvalue = [23, 3237]'),\n",
       " Text(244.40360081077858, 104.41097560975606, 'X[2138] <= 0.167\\ngini = 0.013\\nsamples = 3259\\nvalue = [22, 3237]'),\n",
       " Text(238.0165732681531, 99.77048780487803, 'X[1901] <= 0.536\\ngini = 0.013\\nsamples = 3258\\nvalue = [21, 3237]'),\n",
       " Text(231.6295457255276, 95.13, 'X[810] <= 0.502\\ngini = 0.012\\nsamples = 3257\\nvalue = [20, 3237]'),\n",
       " Text(225.2425181829021, 90.4895121951219, 'X[1670] <= 0.13\\ngini = 0.012\\nsamples = 3256\\nvalue = [19, 3237]'),\n",
       " Text(218.85549064027663, 85.84902439024387, 'X[1059] <= 0.156\\ngini = 0.011\\nsamples = 3255\\nvalue = [18, 3237]'),\n",
       " Text(212.46846309765112, 81.20853658536583, 'X[176] <= 0.295\\ngini = 0.01\\nsamples = 3254\\nvalue = [17, 3237]'),\n",
       " Text(206.08143555502565, 76.5680487804878, 'X[2405] <= 0.135\\ngini = 0.01\\nsamples = 3253\\nvalue = [16, 3237]'),\n",
       " Text(199.69440801240015, 71.92756097560971, 'X[2847] <= 0.715\\ngini = 0.009\\nsamples = 3252\\nvalue = [15, 3237]'),\n",
       " Text(193.30738046977464, 67.28707317073167, 'X[1055] <= 0.478\\ngini = 0.009\\nsamples = 3251\\nvalue = [14, 3237]'),\n",
       " Text(186.92035292714917, 62.64658536585364, 'X[2386] <= 0.305\\ngini = 0.008\\nsamples = 3250\\nvalue = [13, 3237]'),\n",
       " Text(169.35602718492905, 58.006097560975604, 'X[2349] <= 0.508\\ngini = 0.007\\nsamples = 3248\\nvalue = [12, 3236]'),\n",
       " Text(153.38845832836532, 53.36560975609751, 'X[1547] <= 0.307\\ngini = 0.007\\nsamples = 3246\\nvalue = [11, 3235]'),\n",
       " Text(140.61440324311434, 48.72512195121948, 'X[202] <= 0.294\\ngini = 0.006\\nsamples = 3244\\nvalue = [10, 3234]'),\n",
       " Text(134.22737570048886, 44.08463414634144, 'X[1226] <= 0.253\\ngini = 0.006\\nsamples = 3243\\nvalue = [9, 3234]'),\n",
       " Text(115.1660903779659, 39.44414634146341, 'X[898] <= 0.389\\ngini = 0.005\\nsamples = 3241\\nvalue = [8, 3233]'),\n",
       " Text(96.20460236079647, 34.80365853658532, 'X[1222] <= 0.589\\ngini = 0.004\\nsamples = 3239\\nvalue = [7, 3232]'),\n",
       " Text(77.4427089543341, 30.163170731707282, 'X[2136] <= 0.276\\ngini = 0.004\\nsamples = 3237\\nvalue = [6, 3231]'),\n",
       " Text(59.0800047692858, 25.522682926829248, 'X[2043] <= 0.433\\ngini = 0.003\\nsamples = 3235\\nvalue = [5, 3230]'),\n",
       " Text(41.515679027065694, 20.882195121951213, 'X[727] <= 0.382\\ngini = 0.002\\nsamples = 3232\\nvalue = [4, 3228]'),\n",
       " Text(25.548110170501968, 16.24170731707312, 'X[160] <= 0.229\\ngini = 0.002\\nsamples = 3229\\nvalue = [3, 3226]'),\n",
       " Text(12.774055085250984, 11.601219512195087, 'X[901] <= 0.345\\ngini = 0.001\\nsamples = 3215\\nvalue = [1, 3214]'),\n",
       " Text(6.387027542625492, 6.960731707317052, 'gini = 0.0\\nsamples = 3210\\nvalue = [0, 3210]'),\n",
       " Text(19.161082627876475, 6.960731707317052, 'X[3074] <= 0.037\\ngini = 0.32\\nsamples = 5\\nvalue = [1, 4]'),\n",
       " Text(12.774055085250984, 2.3202439024390173, 'gini = 0.0\\nsamples = 1\\nvalue = [1, 0]'),\n",
       " Text(25.548110170501968, 2.3202439024390173, 'gini = 0.0\\nsamples = 4\\nvalue = [0, 4]'),\n",
       " Text(38.32216525575295, 11.601219512195087, 'X[1066] <= 0.099\\ngini = 0.245\\nsamples = 14\\nvalue = [2, 12]'),\n",
       " Text(31.93513771312746, 6.960731707317052, 'gini = 0.0\\nsamples = 12\\nvalue = [0, 12]'),\n",
       " Text(44.709192798378446, 6.960731707317052, 'gini = 0.0\\nsamples = 2\\nvalue = [2, 0]'),\n",
       " Text(57.483247883629424, 16.24170731707312, 'X[1290] <= 0.115\\ngini = 0.444\\nsamples = 3\\nvalue = [1, 2]'),\n",
       " Text(51.096220341003935, 11.601219512195087, 'gini = 0.0\\nsamples = 2\\nvalue = [0, 2]'),\n",
       " Text(63.87027542625492, 11.601219512195087, 'gini = 0.0\\nsamples = 1\\nvalue = [1, 0]'),\n",
       " Text(76.6443305115059, 20.882195121951213, 'X[2909] <= 0.184\\ngini = 0.444\\nsamples = 3\\nvalue = [1, 2]'),\n",
       " Text(70.25730296888041, 16.24170731707312, 'gini = 0.0\\nsamples = 2\\nvalue = [0, 2]'),\n",
       " Text(83.03135805413139, 16.24170731707312, 'gini = 0.0\\nsamples = 1\\nvalue = [1, 0]'),\n",
       " Text(95.80541313938238, 25.522682926829248, 'X[3171] <= 0.109\\ngini = 0.5\\nsamples = 2\\nvalue = [1, 1]'),\n",
       " Text(89.41838559675689, 20.882195121951213, 'gini = 0.0\\nsamples = 1\\nvalue = [1, 0]'),\n",
       " Text(102.19244068200787, 20.882195121951213, 'gini = 0.0\\nsamples = 1\\nvalue = [0, 1]'),\n",
       " Text(114.96649576725885, 30.163170731707282, 'X[1867] <= 0.151\\ngini = 0.5\\nsamples = 2\\nvalue = [1, 1]'),\n",
       " Text(108.57946822463336, 25.522682926829248, 'gini = 0.0\\nsamples = 1\\nvalue = [0, 1]'),\n",
       " Text(121.35352330988435, 25.522682926829248, 'gini = 0.0\\nsamples = 1\\nvalue = [1, 0]'),\n",
       " Text(134.12757839513532, 34.80365853658532, 'X[898] <= 0.487\\ngini = 0.5\\nsamples = 2\\nvalue = [1, 1]'),\n",
       " Text(127.74055085250984, 30.163170731707282, 'gini = 0.0\\nsamples = 1\\nvalue = [1, 0]'),\n",
       " Text(140.51460593776082, 30.163170731707282, 'gini = 0.0\\nsamples = 1\\nvalue = [0, 1]'),\n",
       " Text(153.2886610230118, 39.44414634146341, 'X[3217] <= 0.068\\ngini = 0.5\\nsamples = 2\\nvalue = [1, 1]'),\n",
       " Text(146.90163348038632, 34.80365853658532, 'gini = 0.0\\nsamples = 1\\nvalue = [1, 0]'),\n",
       " Text(159.6756885656373, 34.80365853658532, 'gini = 0.0\\nsamples = 1\\nvalue = [0, 1]'),\n",
       " Text(147.00143078573984, 44.08463414634144, 'gini = 0.0\\nsamples = 1\\nvalue = [1, 0]'),\n",
       " Text(166.16251341361632, 48.72512195121948, 'X[1987] <= 0.176\\ngini = 0.5\\nsamples = 2\\nvalue = [1, 1]'),\n",
       " Text(159.77548587099082, 44.08463414634144, 'gini = 0.0\\nsamples = 1\\nvalue = [0, 1]'),\n",
       " Text(172.5495409562418, 44.08463414634144, 'gini = 0.0\\nsamples = 1\\nvalue = [1, 0]'),\n",
       " Text(185.32359604149278, 53.36560975609751, 'X[3074] <= 0.238\\ngini = 0.5\\nsamples = 2\\nvalue = [1, 1]'),\n",
       " Text(178.9365684988673, 48.72512195121948, 'gini = 0.0\\nsamples = 1\\nvalue = [1, 0]'),\n",
       " Text(191.71062358411828, 48.72512195121948, 'gini = 0.0\\nsamples = 1\\nvalue = [0, 1]'),\n",
       " Text(204.48467866936926, 58.006097560975604, 'X[1150] <= 0.114\\ngini = 0.5\\nsamples = 2\\nvalue = [1, 1]'),\n",
       " Text(198.09765112674378, 53.36560975609751, 'gini = 0.0\\nsamples = 1\\nvalue = [1, 0]'),\n",
       " Text(210.87170621199476, 53.36560975609751, 'gini = 0.0\\nsamples = 1\\nvalue = [0, 1]'),\n",
       " Text(199.69440801240015, 62.64658536585364, 'gini = 0.0\\nsamples = 1\\nvalue = [1, 0]'),\n",
       " Text(206.08143555502565, 67.28707317073167, 'gini = 0.0\\nsamples = 1\\nvalue = [1, 0]'),\n",
       " Text(212.46846309765112, 71.92756097560971, 'gini = 0.0\\nsamples = 1\\nvalue = [1, 0]'),\n",
       " Text(218.85549064027663, 76.5680487804878, 'gini = 0.0\\nsamples = 1\\nvalue = [1, 0]'),\n",
       " Text(225.2425181829021, 81.20853658536583, 'gini = 0.0\\nsamples = 1\\nvalue = [1, 0]'),\n",
       " Text(231.6295457255276, 85.84902439024387, 'gini = 0.0\\nsamples = 1\\nvalue = [1, 0]'),\n",
       " Text(238.0165732681531, 90.4895121951219, 'gini = 0.0\\nsamples = 1\\nvalue = [1, 0]'),\n",
       " Text(244.40360081077858, 95.13, 'gini = 0.0\\nsamples = 1\\nvalue = [1, 0]'),\n",
       " Text(250.7906283534041, 99.77048780487803, 'gini = 0.0\\nsamples = 1\\nvalue = [1, 0]'),\n",
       " Text(257.1776558960296, 104.41097560975606, 'gini = 0.0\\nsamples = 1\\nvalue = [1, 0]'),\n",
       " Text(263.56468343865504, 109.0514634146341, 'gini = 0.0\\nsamples = 1\\nvalue = [1, 0]'),\n",
       " Text(269.95171098128054, 113.69195121951219, 'gini = 0.0\\nsamples = 1\\nvalue = [1, 0]'),\n",
       " Text(276.33873852390604, 118.33243902439023, 'gini = 0.0\\nsamples = 1\\nvalue = [1, 0]'),\n",
       " Text(282.72576606653155, 122.97292682926826, 'gini = 0.0\\nsamples = 1\\nvalue = [1, 0]'),\n",
       " Text(289.11279360915705, 127.61341463414632, 'gini = 0.0\\nsamples = 1\\nvalue = [1, 0]'),\n",
       " Text(295.4998211517825, 132.25390243902436, 'gini = 0.0\\nsamples = 1\\nvalue = [1, 0]'),\n",
       " Text(301.886848694408, 136.89439024390242, 'gini = 0.0\\nsamples = 1\\nvalue = [1, 0]'),\n",
       " Text(308.2738762370335, 141.53487804878046, 'gini = 0.0\\nsamples = 1\\nvalue = [1, 0]'),\n",
       " Text(314.660903779659, 146.17536585365852, 'gini = 0.0\\nsamples = 1\\nvalue = [1, 0]'),\n",
       " Text(321.0479313222845, 150.81585365853655, 'gini = 0.0\\nsamples = 1\\nvalue = [1, 0]'),\n",
       " Text(327.43495886490996, 155.45634146341462, 'gini = 0.0\\nsamples = 1\\nvalue = [1, 0]'),\n",
       " Text(333.82198640753546, 160.09682926829265, 'gini = 0.0\\nsamples = 1\\nvalue = [1, 0]'),\n",
       " Text(340.20901395016097, 164.73731707317071, 'gini = 0.0\\nsamples = 1\\nvalue = [1, 0]'),\n",
       " Text(346.59604149278647, 169.37780487804875, 'gini = 0.0\\nsamples = 1\\nvalue = [1, 0]'),\n",
       " Text(352.983069035412, 174.0182926829268, 'gini = 0.0\\nsamples = 1\\nvalue = [1, 0]'),\n",
       " Text(359.3700965780374, 178.65878048780485, 'gini = 0.0\\nsamples = 1\\nvalue = [1, 0]'),\n",
       " Text(365.7571241206629, 183.2992682926829, 'gini = 0.0\\nsamples = 1\\nvalue = [1, 0]'),\n",
       " Text(372.1441516632884, 187.93975609756095, 'gini = 0.0\\nsamples = 1\\nvalue = [1, 0]'),\n",
       " Text(378.53117920591393, 192.580243902439, 'gini = 0.0\\nsamples = 1\\nvalue = [1, 0]'),\n",
       " Text(384.91820674853943, 197.22073170731704, 'gini = 0.0\\nsamples = 1\\nvalue = [1, 0]'),\n",
       " Text(391.3052342911649, 201.8612195121951, 'gini = 0.0\\nsamples = 1\\nvalue = [1, 0]'),\n",
       " Text(397.6922618337904, 206.50170731707314, 'gini = 0.0\\nsamples = 1\\nvalue = [1, 0]'),\n",
       " Text(404.0792893764159, 211.1421951219512, 'gini = 0.0\\nsamples = 1\\nvalue = [1, 0]'),\n",
       " Text(410.4663169190414, 215.78268292682924, 'gini = 0.0\\nsamples = 1\\nvalue = [1, 0]'),\n",
       " Text(416.8533444616669, 220.4231707317073, 'gini = 0.0\\nsamples = 1\\nvalue = [1, 0]'),\n",
       " Text(423.24037200429234, 225.06365853658534, 'gini = 0.0\\nsamples = 1\\nvalue = [1, 0]'),\n",
       " Text(429.62739954691784, 229.7041463414634, 'gini = 0.0\\nsamples = 1\\nvalue = [1, 0]'),\n",
       " Text(436.01442708954335, 234.34463414634143, 'gini = 0.0\\nsamples = 1\\nvalue = [1, 0]'),\n",
       " Text(442.40145463216885, 238.9851219512195, 'gini = 0.0\\nsamples = 1\\nvalue = [1, 0]'),\n",
       " Text(448.78848217479435, 243.62560975609753, 'gini = 0.0\\nsamples = 1\\nvalue = [1, 0]'),\n",
       " Text(455.1755097174198, 248.2660975609756, 'gini = 0.0\\nsamples = 1\\nvalue = [1, 0]'),\n",
       " Text(461.5625372600453, 252.90658536585363, 'gini = 0.0\\nsamples = 1\\nvalue = [1, 0]'),\n",
       " Text(480.7236198879218, 257.54707317073166, 'X[2481] <= 0.083\\ngini = 0.469\\nsamples = 8\\nvalue = [3, 5]'),\n",
       " Text(474.3365923452963, 252.90658536585363, 'X[329] <= 0.176\\ngini = 0.278\\nsamples = 6\\nvalue = [1, 5]'),\n",
       " Text(467.9495648026708, 248.2660975609756, 'gini = 0.0\\nsamples = 5\\nvalue = [0, 5]'),\n",
       " Text(480.7236198879218, 248.2660975609756, 'gini = 0.0\\nsamples = 1\\nvalue = [1, 0]'),\n",
       " Text(487.11064743054726, 252.90658536585363, 'gini = 0.0\\nsamples = 2\\nvalue = [2, 0]'),\n",
       " Text(499.88470251579827, 262.1875609756097, 'X[566] <= 0.126\\ngini = 0.444\\nsamples = 3\\nvalue = [2, 1]'),\n",
       " Text(493.49767497317276, 257.54707317073166, 'gini = 0.0\\nsamples = 1\\nvalue = [0, 1]'),\n",
       " Text(506.27173005842377, 257.54707317073166, 'gini = 0.0\\nsamples = 2\\nvalue = [2, 0]'),\n",
       " Text(519.0457851436747, 266.8280487804878, 'X[2836] <= 0.133\\ngini = 0.444\\nsamples = 3\\nvalue = [2, 1]'),\n",
       " Text(512.6587576010493, 262.1875609756097, 'gini = 0.0\\nsamples = 2\\nvalue = [2, 0]'),\n",
       " Text(525.4328126863003, 262.1875609756097, 'gini = 0.0\\nsamples = 1\\nvalue = [0, 1]'),\n",
       " Text(538.2068677715512, 271.4685365853658, 'X[218] <= 0.115\\ngini = 0.48\\nsamples = 10\\nvalue = [4, 6]'),\n",
       " Text(531.8198402289257, 266.8280487804878, 'gini = 0.0\\nsamples = 6\\nvalue = [0, 6]'),\n",
       " Text(544.5938953141767, 266.8280487804878, 'gini = 0.0\\nsamples = 4\\nvalue = [4, 0]'),\n",
       " Text(557.3679503994277, 276.1090243902439, 'X[1627] <= 0.065\\ngini = 0.48\\nsamples = 5\\nvalue = [3, 2]'),\n",
       " Text(550.9809228568022, 271.4685365853658, 'gini = 0.0\\nsamples = 2\\nvalue = [0, 2]'),\n",
       " Text(563.7549779420532, 271.4685365853658, 'gini = 0.0\\nsamples = 3\\nvalue = [3, 0]'),\n",
       " Text(589.3030881125552, 280.74951219512195, 'X[1707] <= 0.203\\ngini = 0.473\\nsamples = 13\\nvalue = [5, 8]'),\n",
       " Text(582.9160605699296, 276.1090243902439, 'X[3074] <= 0.096\\ngini = 0.397\\nsamples = 11\\nvalue = [3, 8]'),\n",
       " Text(576.5290330273042, 271.4685365853658, 'X[312] <= 0.277\\ngini = 0.32\\nsamples = 10\\nvalue = [2, 8]'),\n",
       " Text(570.1420054846786, 266.8280487804878, 'X[2227] <= 0.355\\ngini = 0.198\\nsamples = 9\\nvalue = [1, 8]'),\n",
       " Text(563.7549779420532, 262.1875609756097, 'gini = 0.0\\nsamples = 8\\nvalue = [0, 8]'),\n",
       " Text(576.5290330273042, 262.1875609756097, 'gini = 0.0\\nsamples = 1\\nvalue = [1, 0]'),\n",
       " Text(582.9160605699296, 266.8280487804878, 'gini = 0.0\\nsamples = 1\\nvalue = [1, 0]'),\n",
       " Text(589.3030881125552, 271.4685365853658, 'gini = 0.0\\nsamples = 1\\nvalue = [1, 0]'),\n",
       " Text(595.6901156551806, 276.1090243902439, 'gini = 0.0\\nsamples = 2\\nvalue = [2, 0]'),\n",
       " Text(576.7286276380112, 285.39, 'gini = 0.0\\nsamples = 2\\nvalue = [2, 0]'),\n",
       " Text(583.1156551806367, 290.030487804878, 'gini = 0.0\\nsamples = 2\\nvalue = [2, 0]'),\n",
       " Text(589.5026827232622, 294.67097560975606, 'gini = 0.0\\nsamples = 2\\nvalue = [2, 0]'),\n",
       " Text(595.8897102658877, 299.3114634146341, 'gini = 0.0\\nsamples = 2\\nvalue = [2, 0]'),\n",
       " Text(602.2767378085132, 303.9519512195122, 'gini = 0.0\\nsamples = 2\\nvalue = [2, 0]'),\n",
       " Text(608.6637653511386, 308.5924390243902, 'gini = 0.0\\nsamples = 2\\nvalue = [2, 0]'),\n",
       " Text(615.0507928937642, 313.2329268292683, 'gini = 0.0\\nsamples = 2\\nvalue = [2, 0]'),\n",
       " Text(634.2118755216406, 317.87341463414634, 'X[327] <= 0.04\\ngini = 0.469\\nsamples = 16\\nvalue = [6, 10]'),\n",
       " Text(627.8248479790152, 313.2329268292683, 'X[499] <= 0.05\\ngini = 0.355\\nsamples = 13\\nvalue = [3, 10]'),\n",
       " Text(621.4378204363896, 308.5924390243902, 'X[769] <= 0.201\\ngini = 0.165\\nsamples = 11\\nvalue = [1, 10]'),\n",
       " Text(615.0507928937642, 303.9519512195122, 'gini = 0.0\\nsamples = 10\\nvalue = [0, 10]'),\n",
       " Text(627.8248479790152, 303.9519512195122, 'gini = 0.0\\nsamples = 1\\nvalue = [1, 0]'),\n",
       " Text(634.2118755216406, 308.5924390243902, 'gini = 0.0\\nsamples = 2\\nvalue = [2, 0]'),\n",
       " Text(640.5989030642661, 313.2329268292683, 'gini = 0.0\\nsamples = 3\\nvalue = [3, 0]'),\n",
       " Text(653.3729581495171, 322.5139024390244, 'X[2216] <= 0.085\\ngini = 0.375\\nsamples = 4\\nvalue = [3, 1]'),\n",
       " Text(646.9859306068917, 317.87341463414634, 'gini = 0.0\\nsamples = 3\\nvalue = [3, 0]'),\n",
       " Text(659.7599856921427, 317.87341463414634, 'gini = 0.0\\nsamples = 1\\nvalue = [0, 1]'),\n",
       " Text(672.5340407773936, 327.1543902439024, 'X[2529] <= 0.17\\ngini = 0.375\\nsamples = 4\\nvalue = [3, 1]'),\n",
       " Text(666.1470132347681, 322.5139024390244, 'gini = 0.0\\nsamples = 3\\nvalue = [3, 0]'),\n",
       " Text(678.9210683200191, 322.5139024390244, 'gini = 0.0\\nsamples = 1\\nvalue = [0, 1]'),\n",
       " Text(667.7437701204244, 331.79487804878045, 'gini = 0.0\\nsamples = 3\\nvalue = [3, 0]'),\n",
       " Text(674.13079766305, 336.43536585365854, 'gini = 0.0\\nsamples = 3\\nvalue = [3, 0]'),\n",
       " Text(680.5178252056754, 341.0758536585366, 'gini = 0.0\\nsamples = 3\\nvalue = [3, 0]'),\n",
       " Text(686.904852748301, 345.7163414634146, 'gini = 0.0\\nsamples = 3\\nvalue = [3, 0]'),\n",
       " Text(706.0659353761774, 350.35682926829264, 'X[864] <= 0.174\\ngini = 0.452\\nsamples = 29\\nvalue = [10, 19]'),\n",
       " Text(699.6789078335519, 345.7163414634146, 'gini = 0.0\\nsamples = 4\\nvalue = [4, 0]'),\n",
       " Text(712.4529629188029, 345.7163414634146, 'X[1109] <= 0.095\\ngini = 0.365\\nsamples = 25\\nvalue = [6, 19]'),\n",
       " Text(706.0659353761774, 341.0758536585366, 'X[864] <= 0.422\\ngini = 0.287\\nsamples = 23\\nvalue = [4, 19]'),\n",
       " Text(699.6789078335519, 336.43536585365854, 'X[405] <= 0.125\\ngini = 0.172\\nsamples = 21\\nvalue = [2, 19]'),\n",
       " Text(693.2918802909264, 331.79487804878045, 'X[3154] <= 0.202\\ngini = 0.095\\nsamples = 20\\nvalue = [1, 19]'),\n",
       " Text(686.904852748301, 327.1543902439024, 'gini = 0.0\\nsamples = 19\\nvalue = [0, 19]'),\n",
       " Text(699.6789078335519, 327.1543902439024, 'gini = 0.0\\nsamples = 1\\nvalue = [1, 0]'),\n",
       " Text(706.0659353761774, 331.79487804878045, 'gini = 0.0\\nsamples = 1\\nvalue = [1, 0]'),\n",
       " Text(712.4529629188029, 336.43536585365854, 'gini = 0.0\\nsamples = 2\\nvalue = [2, 0]'),\n",
       " Text(718.8399904614284, 341.0758536585366, 'gini = 0.0\\nsamples = 2\\nvalue = [2, 0]'),\n",
       " Text(706.0659353761774, 354.99731707317073, 'gini = 0.0\\nsamples = 3\\nvalue = [3, 0]'),\n",
       " Text(731.6140455466793, 359.63780487804877, 'X[760] <= 0.06\\ngini = 0.496\\nsamples = 11\\nvalue = [6, 5]'),\n",
       " Text(725.2270180040539, 354.99731707317073, 'X[2222] <= 0.109\\ngini = 0.408\\nsamples = 7\\nvalue = [2, 5]'),\n",
       " Text(718.8399904614284, 350.35682926829264, 'gini = 0.0\\nsamples = 5\\nvalue = [0, 5]'),\n",
       " Text(731.6140455466793, 350.35682926829264, 'gini = 0.0\\nsamples = 2\\nvalue = [2, 0]'),\n",
       " Text(738.0010730893049, 354.99731707317073, 'gini = 0.0\\nsamples = 4\\nvalue = [4, 0]'),\n",
       " Text(763.5491832598068, 364.2782926829268, 'X[1564] <= 0.068\\ngini = 0.488\\nsamples = 26\\nvalue = [11, 15]'),\n",
       " Text(757.1621557171813, 359.63780487804877, 'X[1325] <= 0.158\\ngini = 0.454\\nsamples = 23\\nvalue = [8, 15]'),\n",
       " Text(750.7751281745559, 354.99731707317073, 'X[689] <= 0.193\\ngini = 0.408\\nsamples = 21\\nvalue = [6, 15]'),\n",
       " Text(744.3881006319303, 350.35682926829264, 'X[499] <= 0.103\\ngini = 0.375\\nsamples = 20\\nvalue = [5, 15]'),\n",
       " Text(738.0010730893049, 345.7163414634146, 'X[202] <= 0.235\\ngini = 0.332\\nsamples = 19\\nvalue = [4, 15]'),\n",
       " Text(731.6140455466793, 341.0758536585366, 'X[1376] <= 0.446\\ngini = 0.278\\nsamples = 18\\nvalue = [3, 15]'),\n",
       " Text(725.2270180040539, 336.43536585365854, 'X[677] <= 0.114\\ngini = 0.208\\nsamples = 17\\nvalue = [2, 15]'),\n",
       " Text(718.8399904614284, 331.79487804878045, 'X[360] <= 0.165\\ngini = 0.117\\nsamples = 16\\nvalue = [1, 15]'),\n",
       " Text(712.4529629188029, 327.1543902439024, 'gini = 0.0\\nsamples = 15\\nvalue = [0, 15]'),\n",
       " Text(725.2270180040539, 327.1543902439024, 'gini = 0.0\\nsamples = 1\\nvalue = [1, 0]'),\n",
       " Text(731.6140455466793, 331.79487804878045, 'gini = 0.0\\nsamples = 1\\nvalue = [1, 0]'),\n",
       " Text(738.0010730893049, 336.43536585365854, 'gini = 0.0\\nsamples = 1\\nvalue = [1, 0]'),\n",
       " Text(744.3881006319303, 341.0758536585366, 'gini = 0.0\\nsamples = 1\\nvalue = [1, 0]'),\n",
       " Text(750.7751281745559, 345.7163414634146, 'gini = 0.0\\nsamples = 1\\nvalue = [1, 0]'),\n",
       " Text(757.1621557171813, 350.35682926829264, 'gini = 0.0\\nsamples = 1\\nvalue = [1, 0]'),\n",
       " Text(763.5491832598068, 354.99731707317073, 'gini = 0.0\\nsamples = 2\\nvalue = [2, 0]'),\n",
       " Text(769.9362108024324, 359.63780487804877, 'gini = 0.0\\nsamples = 3\\nvalue = [3, 0]'),\n",
       " Text(752.3718850602122, 368.91878048780484, 'gini = 0.0\\nsamples = 5\\nvalue = [5, 0]'),\n",
       " Text(817.8389173721235, 373.55926829268293, 'X[716] <= 0.121\\ngini = 0.472\\nsamples = 42\\nvalue = [16, 26]'),\n",
       " Text(811.451889829498, 368.91878048780484, 'X[1627] <= 0.029\\ngini = 0.418\\nsamples = 37\\nvalue = [11, 26]'),\n",
       " Text(798.6778347442471, 364.2782926829268, 'X[2641] <= 0.174\\ngini = 0.342\\nsamples = 32\\nvalue = [7, 25]'),\n",
       " Text(792.2908072016215, 359.63780487804877, 'X[3074] <= 0.067\\ngini = 0.278\\nsamples = 30\\nvalue = [5, 25]'),\n",
       " Text(776.3232383450578, 354.99731707317073, 'X[2765] <= 0.205\\ngini = 0.095\\nsamples = 20\\nvalue = [1, 19]'),\n",
       " Text(769.9362108024324, 350.35682926829264, 'gini = 0.0\\nsamples = 19\\nvalue = [0, 19]'),\n",
       " Text(782.7102658876834, 350.35682926829264, 'gini = 0.0\\nsamples = 1\\nvalue = [1, 0]'),\n",
       " Text(808.2583760581853, 354.99731707317073, 'X[2402] <= 0.255\\ngini = 0.48\\nsamples = 10\\nvalue = [4, 6]'),\n",
       " Text(795.4843209729343, 350.35682926829264, 'X[2557] <= 0.116\\ngini = 0.278\\nsamples = 6\\nvalue = [1, 5]'),\n",
       " Text(789.0972934303088, 345.7163414634146, 'gini = 0.0\\nsamples = 5\\nvalue = [0, 5]'),\n",
       " Text(801.8713485155598, 345.7163414634146, 'gini = 0.0\\nsamples = 1\\nvalue = [1, 0]'),\n",
       " Text(821.0324311434363, 350.35682926829264, 'X[2045] <= 0.2\\ngini = 0.375\\nsamples = 4\\nvalue = [3, 1]'),\n",
       " Text(814.6454036008108, 345.7163414634146, 'gini = 0.0\\nsamples = 3\\nvalue = [3, 0]'),\n",
       " Text(827.4194586860617, 345.7163414634146, 'gini = 0.0\\nsamples = 1\\nvalue = [0, 1]'),\n",
       " Text(805.0648622868725, 359.63780487804877, 'gini = 0.0\\nsamples = 2\\nvalue = [2, 0]'),\n",
       " Text(824.225944914749, 364.2782926829268, 'X[1880] <= 0.128\\ngini = 0.32\\nsamples = 5\\nvalue = [4, 1]'),\n",
       " Text(817.8389173721235, 359.63780487804877, 'gini = 0.0\\nsamples = 4\\nvalue = [4, 0]'),\n",
       " Text(830.6129724573746, 359.63780487804877, 'gini = 0.0\\nsamples = 1\\nvalue = [0, 1]'),\n",
       " Text(824.225944914749, 368.91878048780484, 'gini = 0.0\\nsamples = 5\\nvalue = [5, 0]')]"
      ]
     },
     "execution_count": 101,
     "metadata": {},
     "output_type": "execute_result"
    },
    {
     "data": {
      "image/png": "[encoded data removed]",
      "text/plain": [
       "<Figure size 1080x504 with 1 Axes>"
      ]
     },
     "metadata": {},
     "output_type": "display_data"
    }
   ],
   "source": [
    "from sklearn import tree\n",
    "tree.plot_tree(decision_model) "
   ]
  },
  {
   "cell_type": "markdown",
   "metadata": {},
   "source": [
    "Looks like because of word features the decision tree has higher depth. "
   ]
  }
 ],
 "metadata": {
  "kernelspec": {
   "display_name": "Python 3",
   "language": "python",
   "name": "python3"
  },
  "language_info": {
   "codemirror_mode": {
    "name": "ipython",
    "version": 3
   },
   "file_extension": ".py",
   "mimetype": "text/x-python",
   "name": "python",
   "nbconvert_exporter": "python",
   "pygments_lexer": "ipython3",
   "version": "3.7.6"
  }
 },
 "nbformat": 4,
 "nbformat_minor": 4
}
